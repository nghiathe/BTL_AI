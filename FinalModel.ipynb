{
 "cells": [
  {
   "cell_type": "markdown",
   "id": "8a1dd10f-9a31-4ac4-a1dd-1a7461cc5b3d",
   "metadata": {
    "tags": []
   },
   "source": [
    " ## **[Nhóm 11] Nhận diện biểu cảm gương mặt**"
   ]
  },
  {
   "cell_type": "markdown",
   "id": "ffe5e80a-f96b-4607-996d-aef2a52a30cc",
   "metadata": {
    "id": "ITK54PhVBAry",
    "papermill": {
     "duration": 0.012109,
     "end_time": "2024-04-16T14:19:48.689461",
     "exception": false,
     "start_time": "2024-04-16T14:19:48.677352",
     "status": "completed"
    },
    "tags": []
   },
   "source": [
    " ### **Nhập các thư viện**.\n",
    "\n",
    "Nhập các thư viện cần thiết để xây dựng và huấn luyện một mạng nơ-ron tích chập (CNN) để nhận diện cảm xúc trên khuôn mặt.\n",
    "\n",
    "- `os`: Cung cấp các hàm để tương tác với hệ điều hành, hữu ích cho các thao tác với tệp.\n",
    "- `cv2`: Thư viện OpenCV cho các tác vụ thị giác máy tính, được sử dụng ở đây để xử lý hình ảnh.\n",
    "-`numpy`: Thư viện tính toán số học, được sử dụng cho các thao tác mảng.\n",
    "- `tensorflow`: Thư viện TensorFlow cho học sâu.\n",
    "- `train_test_split` từ sklearn.model_selection: Chia dữ liệu thành các tập huấn luyện và kiểm tra.\n",
    "- `ImageDataGenerator` từ tensorflow.keras.preprocessing.image: Tạo ra các lô dữ liệu tăng cường.\n",
    "- `LabelEncoder` từ sklearn.preprocessing: Mã hóa các nhãn mục tiêu với các giá trị giữa 0 và n_classes-1.\n",
    "- `to_categorical` từ keras.utils: Chuyển đổi vector lớp (số nguyên) thành ma trận lớp nhị phân.\n",
    "- `Sequential` từ keras.models: Ngăn xếp tuyến tính của các lớp để xây dựng mô hình học sâu.\n",
    "- `Dense, Conv2D, Dropout, BatchNormalization, MaxPooling2D, Flatten` từ keras.layers: Các loại lớp khác nhau được sử dụng trong kiến trúc CNN.\n",
    "- `Optimizers` (Adam, RMSprop, SGD) từ keras.optimizers: Các thuật toán được sử dụng để cập nhật trọng số mô hình trong quá trình huấn luyện.\n",
    "- `plt` từ matplotlib.pyplot: Thư viện để tạo các hình ảnh minh họa, được sử dụng ở đây để vẽ các đường cong huấn luyện/kiểm tra.\n",
    "- Callbacks (ModelCheckpoint, EarlyStopping, ReduceLROnPlateau) từ keras.callbacks: Các hàm được gọi trong quá trình huấn luyện tại một số điểm nhất định để cải thiện hiệu suất mô hình hoặc xử lý các gián đoạn huấn luyện."
   ]
  },
  {
   "cell_type": "code",
   "execution_count": 1,
   "id": "036e74a3",
   "metadata": {
    "id": "fDYyQlK_iMSL",
    "papermill": {
     "duration": 15.426852,
     "end_time": "2024-04-16T14:20:04.152491",
     "exception": false,
     "start_time": "2024-04-16T14:19:48.725639",
     "status": "completed"
    },
    "tags": []
   },
   "outputs": [],
   "source": [
    "import os\n",
    "import cv2\n",
    "import numpy as np\n",
    "import tensorflow\n",
    "from sklearn.model_selection import train_test_split\n",
    "from tensorflow.keras.preprocessing.image import ImageDataGenerator\n",
    "from sklearn.preprocessing import LabelEncoder\n",
    "from keras.utils import to_categorical\n",
    "from keras.models import Sequential\n",
    "from keras.layers import Dense, Conv2D, Dropout, BatchNormalization, MaxPooling2D, Flatten\n",
    "from keras.optimizers import Adam, RMSprop, SGD\n",
    "import matplotlib.pyplot as plt\n",
    "from keras.callbacks import ModelCheckpoint, EarlyStopping, ReduceLROnPlateau"
   ]
  },
  {
   "cell_type": "markdown",
   "id": "8fd26564",
   "metadata": {
    "id": "dTA20-1iB4I6",
    "papermill": {
     "duration": 0.012018,
     "end_time": "2024-04-16T14:20:04.177043",
     "exception": false,
     "start_time": "2024-04-16T14:20:04.165025",
     "status": "completed"
    },
    "tags": []
   },
   "source": [
    "Biến `data_dir` chỉ định thư mục nơi bộ dữ liệu được đặt. Trong trường hợp này, nó được đặt là \"images/train\". Thư mục này có khả năng chứa các thư mục con với hình ảnh được tổ chức thành các lớp hoặc danh mục khác nhau, chẳng hạn như các biểu cảm khuôn mặt khác nhau. Các hình ảnh trong các thư mục con này sẽ được sử dụng để huấn luyện mô hình nhận diện cảm xúc trên khuôn mặt."
   ]
  },
  {
   "cell_type": "code",
   "execution_count": 2,
   "id": "39f4732f",
   "metadata": {
    "id": "Q9L2Lx6dib9F",
    "papermill": {
     "duration": 0.020223,
     "end_time": "2024-04-16T14:20:04.209222",
     "exception": false,
     "start_time": "2024-04-16T14:20:04.188999",
     "status": "completed"
    },
    "tags": []
   },
   "outputs": [],
   "source": [
    "# Dataset Directory\n",
    "data_dir = \"images/train\"\n"
   ]
  },
  {
   "cell_type": "markdown",
   "id": "7cd7ce57",
   "metadata": {
    "id": "zzHAKoVmCrjB",
    "papermill": {
     "duration": 0.011537,
     "end_time": "2024-04-16T14:20:04.232360",
     "exception": false,
     "start_time": "2024-04-16T14:20:04.220823",
     "status": "completed"
    },
    "tags": []
   },
   "source": [
    "Biến `sub_folders` được gán danh sách các thư mục con trong thư mục bộ dữ liệu data_dir. Các thư mục con này đại diện cho các lớp hoặc danh mục dữ liệu khác nhau, chẳng hạn như các biểu cảm khuôn mặt khác nhau. Mỗi thư mục con chứa các hình ảnh tương ứng với lớp tương ứng của nó."
   ]
  },
  {
   "cell_type": "code",
   "execution_count": 3,
   "id": "8475d684",
   "metadata": {
    "id": "gWafwx62ilRE",
    "papermill": {
     "duration": 0.025416,
     "end_time": "2024-04-16T14:20:04.269881",
     "exception": false,
     "start_time": "2024-04-16T14:20:04.244465",
     "status": "completed"
    },
    "tags": []
   },
   "outputs": [],
   "source": [
    "# Classes\n",
    "sub_folders = os.listdir(data_dir)"
   ]
  },
  {
   "cell_type": "markdown",
   "id": "8312b8bb",
   "metadata": {
    "id": "VZc55z9ZDA62",
    "papermill": {
     "duration": 0.011562,
     "end_time": "2024-04-16T14:20:04.293696",
     "exception": false,
     "start_time": "2024-04-16T14:20:04.282134",
     "status": "completed"
    },
    "tags": []
   },
   "source": [
    "Hai danh sách, `images` và `labels`, được khai báo để lưu trữ dữ liệu hình ảnh và các nhãn tương ứng. Các danh sách này sẽ được điền vào trong quá trình tải dữ liệu, khi các hình ảnh từ mỗi lớp được đọc và thêm vào danh sách `images`, trong khi các nhãn tương ứng của chúng được thêm vào danh sách `labels`."
   ]
  },
  {
   "cell_type": "code",
   "execution_count": 4,
   "id": "dace849a",
   "metadata": {
    "id": "OBRZU_fzisqq",
    "papermill": {
     "duration": 0.018528,
     "end_time": "2024-04-16T14:20:04.324088",
     "exception": false,
     "start_time": "2024-04-16T14:20:04.305560",
     "status": "completed"
    },
    "tags": []
   },
   "outputs": [],
   "source": [
    "# Declaring the lists for images and labels\n",
    "images = []\n",
    "labels = []"
   ]
  },
  {
   "cell_type": "markdown",
   "id": "b17c5c72",
   "metadata": {
    "id": "ueels922DU6a",
    "papermill": {
     "duration": 0.011627,
     "end_time": "2024-04-16T14:20:04.347392",
     "exception": false,
     "start_time": "2024-04-16T14:20:04.335765",
     "status": "completed"
    },
    "tags": []
   },
   "source": [
    "### **Tiền xử lý dữ liệu**\n",
    "\n",
    "Đoạn mã này lặp qua từng thư mục con trong danh sách `sub_folders`, đại diện cho các lớp hoặc nhãn khác nhau. Nó sau đó truy cập các hình ảnh trong mỗi thư mục con, đọc chúng bằng OpenCV và thêm vào danh sách `images`. Ngoài ra, nó cũng thêm nhãn tương ứng (tên của thư mục con) vào danh sách `labels`."
   ]
  },
  {
   "cell_type": "code",
   "execution_count": 5,
   "id": "601bed4f",
   "metadata": {
    "id": "6N7TZ54civYK",
    "papermill": {
     "duration": 176.234161,
     "end_time": "2024-04-16T14:23:00.593319",
     "exception": false,
     "start_time": "2024-04-16T14:20:04.359158",
     "status": "completed"
    },
    "tags": []
   },
   "outputs": [],
   "source": [
    "# Accessing the labels\n",
    "for sub_folder in sub_folders:\n",
    "    label = sub_folder\n",
    "\n",
    "    # Constructing the path to the current sub-folder\n",
    "    path = os.path.join(data_dir, sub_folder)\n",
    "\n",
    "    # Listing all images in the current sub-folder\n",
    "    sub_folder_images = os.listdir(path)\n",
    "\n",
    "    # Accessing the Images\n",
    "    for image_name in sub_folder_images:\n",
    "        # Constructing the path to the current image\n",
    "        image_path = os.path.join(path, image_name)\n",
    "        # Loading the image using OpenCV\n",
    "        img = cv2.imread(image_path, cv2.IMREAD_GRAYSCALE)  # Read as grayscale\n",
    "        # Appending the image to the list of images\n",
    "        images.append(img)\n",
    "        # Appending the label corresponding to the current sub-folder to the list of labels\n",
    "        labels.append(label)"
   ]
  },
  {
   "cell_type": "markdown",
   "id": "720a50d9",
   "metadata": {
    "id": "FEbz7QjjDkQg",
    "papermill": {
     "duration": 0.011521,
     "end_time": "2024-04-16T14:23:00.617638",
     "exception": false,
     "start_time": "2024-04-16T14:23:00.606117",
     "status": "completed"
    },
    "tags": []
   },
   "source": [
    "Danh sách các hình ảnh và nhãn được chuyển đổi thành các mảng NumPy bằng cách sử dụng hàm `np.array()`. Việc chuyển đổi này là cần thiết cho quá trình xử lý tiếp theo và để tương thích với các khung học sâu như TensorFlow và Keras."
   ]
  },
  {
   "cell_type": "code",
   "execution_count": 6,
   "id": "f0c0de5d",
   "metadata": {
    "id": "t3ehOepji55a",
    "papermill": {
     "duration": 0.075035,
     "end_time": "2024-04-16T14:23:00.704345",
     "exception": false,
     "start_time": "2024-04-16T14:23:00.629310",
     "status": "completed"
    },
    "tags": []
   },
   "outputs": [
    {
     "name": "stdout",
     "output_type": "stream",
     "text": [
      "28821\n"
     ]
    }
   ],
   "source": [
    "# Converting the lists of images and labels to NumPy arrays\n",
    "images = np.array(images)\n",
    "labels = np.array(labels)\n",
    "print(len(images))"
   ]
  },
  {
   "cell_type": "markdown",
   "id": "41e0baf8",
   "metadata": {
    "id": "XWRd7o4aDxIw",
    "papermill": {
     "duration": 0.011668,
     "end_time": "2024-04-16T14:23:00.728111",
     "exception": false,
     "start_time": "2024-04-16T14:23:00.716443",
     "status": "completed"
    },
    "tags": []
   },
   "source": [
    "Bộ dữ liệu được chia thành các tập huấn luyện, validation và kiểm tra bằng cách sử dụng hàm `train_test_split` từ scikit-learn.\n",
    "\n",
    "- `X_train`, `y_train`: Hình ảnh và nhãn của tập huấn luyện.\n",
    "- `X_val`, `y_val`: Hình ảnh và nhãn của tập validation.\n",
    "- `X_test`, `y_tes`: Hình ảnh và nhãn của tập kiểm tra.\n",
    "\n",
    "Bộ dữ liệu được chia với kích thước tập kiểm tra là 20% và kích thước tập validation là 10% của bộ dữ liệu gốc. Tham số `random_state` đảm bảo tính tái tạo của việc chia tập."
   ]
  },
  {
   "cell_type": "code",
   "execution_count": 7,
   "id": "79df209b",
   "metadata": {
    "id": "3RlIsHBIi9fQ",
    "papermill": {
     "duration": 0.074651,
     "end_time": "2024-04-16T14:23:00.814569",
     "exception": false,
     "start_time": "2024-04-16T14:23:00.739918",
     "status": "completed"
    },
    "tags": []
   },
   "outputs": [],
   "source": [
    "# Splitting Dataset into training, validation, and test sets\n",
    "X_train, X_test, y_train, y_test = train_test_split(\n",
    "    images, labels, test_size=0.2, random_state=42)\n",
    "\n",
    "X_train, X_val, y_train, y_val = train_test_split(\n",
    "    X_train, y_train, test_size=0.1, random_state=42)"
   ]
  },
  {
   "cell_type": "markdown",
   "id": "fa6ebc64",
   "metadata": {
    "id": "pkaWQ0_WD6iH",
    "papermill": {
     "duration": 0.012114,
     "end_time": "2024-04-16T14:23:00.839353",
     "exception": false,
     "start_time": "2024-04-16T14:23:00.827239",
     "status": "completed"
    },
    "tags": []
   },
   "source": [
    "Hàm tiền xử lý được định nghĩa để tiền xử lý các hình ảnh đầu vào trước khi đưa chúng vào mô hình mạng nơ-ron.\n",
    "\n",
    "- Chuẩn hóa các giá trị pixel bằng cách chia mỗi pixel cho 255.0, điều này đưa các giá trị pixel về phạm vi [0, 1].\n",
    "- Thay đổi kích thước của hình ảnh thành kích thước cố định là 48x48 pixel bằng cách sử dụng hàm resize của OpenCV.\n",
    "- Định hình mảng hình ảnh để phù hợp với hình dạng đầu vào được mong đợi bởi mô hình mạng nơ-ron. Hình dạng này là `(batch_size, chiều cao, chiều rộng, kênh)`, trong đó `batch_size` được đặt là -1 để chỉ định kích thước batch size và `channels` được đặt là 1 cho các hình ảnh xám.\n"
   ]
  },
  {
   "cell_type": "code",
   "execution_count": 8,
   "id": "111c6c4c",
   "metadata": {
    "id": "W-QcvS5EjA8z",
    "papermill": {
     "duration": 0.019212,
     "end_time": "2024-04-16T14:23:00.870532",
     "exception": false,
     "start_time": "2024-04-16T14:23:00.851320",
     "status": "completed"
    },
    "tags": []
   },
   "outputs": [],
   "source": [
    "# Preprocess the image\n",
    "def preprocessing(img):\n",
    "    img = img / 255.0\n",
    "    img = cv2.resize(img, (48, 48))\n",
    "    return img.reshape(-1, 48, 48, 1)  # Reshape to match input shape"
   ]
  },
  {
   "cell_type": "markdown",
   "id": "f74c6f20",
   "metadata": {
    "id": "NHQ6x-hUEKrM",
    "papermill": {
     "duration": 0.011449,
     "end_time": "2024-04-16T14:23:00.893670",
     "exception": false,
     "start_time": "2024-04-16T14:23:00.882221",
     "status": "completed"
    },
    "tags": []
   },
   "source": [
    "Đoạn mã áp dụng hàm `preprocessing` cho mỗi hình ảnh trong các tập huấn luyện, validation và kiểm tra bằng cách sử dụng hàm map, sau đó chuyển đổi danh sách kết quả của các hình ảnh đã tiền xử lý thành các mảng NumPy.\n",
    "\n",
    "- `map(preprocessing, X_train)`: Áp dụng hàm `preprocessing` cho mỗi hình ảnh trong `X_train`.\n",
    "- `list(map(...))`: Chuyển đổi đối tượng map thành một danh sách.\n",
    "- `np.array(...)`: Chuyển đổi danh sách các hình ảnh đã tiền xử lý thành một mảng NumPy."
   ]
  },
  {
   "cell_type": "code",
   "execution_count": 9,
   "id": "b5b87d73",
   "metadata": {
    "id": "xYlF0AWcFFVD",
    "papermill": {
     "duration": 0.70885,
     "end_time": "2024-04-16T14:23:01.614403",
     "exception": false,
     "start_time": "2024-04-16T14:23:00.905553",
     "status": "completed"
    },
    "tags": []
   },
   "outputs": [],
   "source": [
    "# Apply preprocessing to training, validation, and test sets\n",
    "X_train = np.array(list(map(preprocessing, X_train)))\n",
    "X_val = np.array(list(map(preprocessing, X_val)))\n",
    "X_test = np.array(list(map(preprocessing, X_test)))"
   ]
  },
  {
   "cell_type": "markdown",
   "id": "0e00f319",
   "metadata": {
    "id": "nhlFmsyUFMDy",
    "papermill": {
     "duration": 0.011709,
     "end_time": "2024-04-16T14:23:01.638390",
     "exception": false,
     "start_time": "2024-04-16T14:23:01.626681",
     "status": "completed"
    },
    "tags": []
   },
   "source": [
    "Đoạn mã này điều chỉnh hình dạng của các mảng dữ liệu đầu vào để loại bỏ một chiều không cần thiết. Vì hình dạng đầu vào mà model network mong đợi là `(batch_size, height, width, channels)`, trong đó `batch_size` đại diện cho số lượng mẫu trong mỗi lô, chiều không cần thiết sẽ được loại bỏ để đảm bảo tính tương thích với kiến trúc của mô hình.\n",
    "\n",
    "- `reshape(-1, 48, 48, 1)`: Điều chỉnh hình dạng của các mảng dữ liệu đầu vào để có hình dạng `(batch_size, 48, 48, 1)`, trong đó -1 chỉ ra rằng kích thước lô được xác định động dựa trên số lượng mẫu."
   ]
  },
  {
   "cell_type": "code",
   "execution_count": 10,
   "id": "1911944b",
   "metadata": {
    "id": "Mfe4OENojGZM",
    "papermill": {
     "duration": 0.019593,
     "end_time": "2024-04-16T14:23:01.709177",
     "exception": false,
     "start_time": "2024-04-16T14:23:01.689584",
     "status": "completed"
    },
    "tags": []
   },
   "outputs": [],
   "source": [
    "# Reshape input data to remove unnecessary dimension\n",
    "X_train = X_train.reshape(-1, 48, 48, 1)\n",
    "X_val = X_val.reshape(-1, 48, 48, 1)\n",
    "X_test = X_test.reshape(-1, 48, 48, 1)"
   ]
  },
  {
   "cell_type": "markdown",
   "id": "8b1846ec",
   "metadata": {
    "id": "AYvdbcs0Fb_F",
    "papermill": {
     "duration": 0.011564,
     "end_time": "2024-04-16T14:23:01.732407",
     "exception": false,
     "start_time": "2024-04-16T14:23:01.720843",
     "status": "completed"
    },
    "tags": []
   },
   "source": [
    "Đối tượng `ImageDataGenerator` được khởi tạo với các tham số tăng cường dữ liệu khác nhau để tăng cường các hình ảnh huấn luyện. Tăng cường dữ liệu là một kỹ thuật được sử dụng để tăng kích thước của tập dữ liệu huấn luyện bằng cách áp dụng các biến đổi ngẫu nhiên cho các hình ảnh, giúp cải thiện tính tổng quát và tính đáng tin cậy của mô hình.\n",
    "\n",
    "- `width_shift_range`: Di chuyển ngẫu nhiên chiều rộng của hình ảnh một phần nhỏ của chiều rộng của nó.\n",
    "- `height_shift_range`: Di chuyển ngẫu nhiên chiều cao của hình ảnh một phần nhỏ của chiều cao của nó.\n",
    "- `zoom_range`: Phóng to hoặc thu nhỏ ngẫu nhiên hình ảnh.\n",
    "- `shear_range`: Áp dụng biến đổi cắt ngẫu nhiên cho hình ảnh.\n",
    "- `rotation_range`: Xoay ngẫu nhiên hình ảnh theo một phạm vi góc nhất định.\n",
    "Sau đó, phương thức `fit()` được gọi trên đối tượng `ImageDataGenerator` để tính toán các thống kê cần thiết cho việc tăng cường dữ liệu dựa trên dữ liệu huấn luyện."
   ]
  },
  {
   "cell_type": "code",
   "execution_count": 11,
   "id": "30fafb0e",
   "metadata": {
    "id": "amlCUHiVjMGx",
    "papermill": {
     "duration": 0.15978,
     "end_time": "2024-04-16T14:23:01.903763",
     "exception": false,
     "start_time": "2024-04-16T14:23:01.743983",
     "status": "completed"
    },
    "tags": []
   },
   "outputs": [],
   "source": [
    "# Initialize ImageDataGenerator for data augmentation\n",
    "data_gen = ImageDataGenerator(\n",
    "    width_shift_range=0.1,\n",
    "    height_shift_range=0.1,\n",
    "    zoom_range=0.1,\n",
    "    shear_range=0.1,\n",
    "    rotation_range=10\n",
    ")\n",
    "\n",
    "# Compute necessary statistics for data augmentation\n",
    "data_gen.fit(X_train)"
   ]
  },
  {
   "cell_type": "markdown",
   "id": "e7cbeca2",
   "metadata": {
    "id": "UXPB--KSFqvw",
    "papermill": {
     "duration": 0.011866,
     "end_time": "2024-04-16T14:23:01.927700",
     "exception": false,
     "start_time": "2024-04-16T14:23:01.915834",
     "status": "completed"
    },
    "tags": []
   },
   "source": [
    "Đối tượng `LabelEncoder` được khởi tạo để mã hóa các nhãn lớp thành các giá trị số. Điều này cần thiết vì các mô hình máy học thường yêu cầu đầu vào dưới dạng số học. Sau đó, phương thức `fit()` được gọi trên đối tượng LabelEncoder để phù hợp bộ mã hóa với mảng các nhãn lớp, cho phép nó ánh xạ các nhãn lớp thành các giá trị số."
   ]
  },
  {
   "cell_type": "code",
   "execution_count": 12,
   "id": "9c02793c",
   "metadata": {
    "id": "v-M6Td56jQnI",
    "outputId": "1f276d0c-d8bd-463e-b31b-03e37c060493",
    "papermill": {
     "duration": 0.02823,
     "end_time": "2024-04-16T14:23:01.967688",
     "exception": false,
     "start_time": "2024-04-16T14:23:01.939458",
     "status": "completed"
    },
    "tags": []
   },
   "outputs": [
    {
     "data": {
      "text/html": [
       "<style>#sk-container-id-1 {color: black;}#sk-container-id-1 pre{padding: 0;}#sk-container-id-1 div.sk-toggleable {background-color: white;}#sk-container-id-1 label.sk-toggleable__label {cursor: pointer;display: block;width: 100%;margin-bottom: 0;padding: 0.3em;box-sizing: border-box;text-align: center;}#sk-container-id-1 label.sk-toggleable__label-arrow:before {content: \"▸\";float: left;margin-right: 0.25em;color: #696969;}#sk-container-id-1 label.sk-toggleable__label-arrow:hover:before {color: black;}#sk-container-id-1 div.sk-estimator:hover label.sk-toggleable__label-arrow:before {color: black;}#sk-container-id-1 div.sk-toggleable__content {max-height: 0;max-width: 0;overflow: hidden;text-align: left;background-color: #f0f8ff;}#sk-container-id-1 div.sk-toggleable__content pre {margin: 0.2em;color: black;border-radius: 0.25em;background-color: #f0f8ff;}#sk-container-id-1 input.sk-toggleable__control:checked~div.sk-toggleable__content {max-height: 200px;max-width: 100%;overflow: auto;}#sk-container-id-1 input.sk-toggleable__control:checked~label.sk-toggleable__label-arrow:before {content: \"▾\";}#sk-container-id-1 div.sk-estimator input.sk-toggleable__control:checked~label.sk-toggleable__label {background-color: #d4ebff;}#sk-container-id-1 div.sk-label input.sk-toggleable__control:checked~label.sk-toggleable__label {background-color: #d4ebff;}#sk-container-id-1 input.sk-hidden--visually {border: 0;clip: rect(1px 1px 1px 1px);clip: rect(1px, 1px, 1px, 1px);height: 1px;margin: -1px;overflow: hidden;padding: 0;position: absolute;width: 1px;}#sk-container-id-1 div.sk-estimator {font-family: monospace;background-color: #f0f8ff;border: 1px dotted black;border-radius: 0.25em;box-sizing: border-box;margin-bottom: 0.5em;}#sk-container-id-1 div.sk-estimator:hover {background-color: #d4ebff;}#sk-container-id-1 div.sk-parallel-item::after {content: \"\";width: 100%;border-bottom: 1px solid gray;flex-grow: 1;}#sk-container-id-1 div.sk-label:hover label.sk-toggleable__label {background-color: #d4ebff;}#sk-container-id-1 div.sk-serial::before {content: \"\";position: absolute;border-left: 1px solid gray;box-sizing: border-box;top: 0;bottom: 0;left: 50%;z-index: 0;}#sk-container-id-1 div.sk-serial {display: flex;flex-direction: column;align-items: center;background-color: white;padding-right: 0.2em;padding-left: 0.2em;position: relative;}#sk-container-id-1 div.sk-item {position: relative;z-index: 1;}#sk-container-id-1 div.sk-parallel {display: flex;align-items: stretch;justify-content: center;background-color: white;position: relative;}#sk-container-id-1 div.sk-item::before, #sk-container-id-1 div.sk-parallel-item::before {content: \"\";position: absolute;border-left: 1px solid gray;box-sizing: border-box;top: 0;bottom: 0;left: 50%;z-index: -1;}#sk-container-id-1 div.sk-parallel-item {display: flex;flex-direction: column;z-index: 1;position: relative;background-color: white;}#sk-container-id-1 div.sk-parallel-item:first-child::after {align-self: flex-end;width: 50%;}#sk-container-id-1 div.sk-parallel-item:last-child::after {align-self: flex-start;width: 50%;}#sk-container-id-1 div.sk-parallel-item:only-child::after {width: 0;}#sk-container-id-1 div.sk-dashed-wrapped {border: 1px dashed gray;margin: 0 0.4em 0.5em 0.4em;box-sizing: border-box;padding-bottom: 0.4em;background-color: white;}#sk-container-id-1 div.sk-label label {font-family: monospace;font-weight: bold;display: inline-block;line-height: 1.2em;}#sk-container-id-1 div.sk-label-container {text-align: center;}#sk-container-id-1 div.sk-container {/* jupyter's `normalize.less` sets `[hidden] { display: none; }` but bootstrap.min.css set `[hidden] { display: none !important; }` so we also need the `!important` here to be able to override the default hidden behavior on the sphinx rendered scikit-learn.org. See: https://github.com/scikit-learn/scikit-learn/issues/21755 */display: inline-block !important;position: relative;}#sk-container-id-1 div.sk-text-repr-fallback {display: none;}</style><div id=\"sk-container-id-1\" class=\"sk-top-container\"><div class=\"sk-text-repr-fallback\"><pre>LabelEncoder()</pre><b>In a Jupyter environment, please rerun this cell to show the HTML representation or trust the notebook. <br />On GitHub, the HTML representation is unable to render, please try loading this page with nbviewer.org.</b></div><div class=\"sk-container\" hidden><div class=\"sk-item\"><div class=\"sk-estimator sk-toggleable\"><input class=\"sk-toggleable__control sk-hidden--visually\" id=\"sk-estimator-id-1\" type=\"checkbox\" checked><label for=\"sk-estimator-id-1\" class=\"sk-toggleable__label sk-toggleable__label-arrow\">LabelEncoder</label><div class=\"sk-toggleable__content\"><pre>LabelEncoder()</pre></div></div></div></div></div>"
      ],
      "text/plain": [
       "LabelEncoder()"
      ]
     },
     "execution_count": 12,
     "metadata": {},
     "output_type": "execute_result"
    }
   ],
   "source": [
    "# Encode the class labels\n",
    "label_encoder = LabelEncoder()\n",
    "label_encoder.fit(labels)"
   ]
  },
  {
   "cell_type": "markdown",
   "id": "62359bd4",
   "metadata": {
    "id": "ruMxfBiSF33b",
    "papermill": {
     "duration": 0.013796,
     "end_time": "2024-04-16T14:23:01.995561",
     "exception": false,
     "start_time": "2024-04-16T14:23:01.981765",
     "status": "completed"
    },
    "tags": []
   },
   "source": [
    "Các nhãn lớp cho các tập huấn luyện, validation và kiểm tra được mã hóa bằng cách sử dụng phương thức `transform()` của đối tượng `LabelEncoder` được khởi tạo trước đó. Phương thức này ánh xạ các nhãn lớp thành các giá trị số tương ứng của chúng như được xác định trong quá trình phù hợp."
   ]
  },
  {
   "cell_type": "code",
   "execution_count": 13,
   "id": "cd26eaa9",
   "metadata": {
    "id": "5-hx7_s8jTZb",
    "papermill": {
     "duration": 0.040315,
     "end_time": "2024-04-16T14:23:02.049328",
     "exception": false,
     "start_time": "2024-04-16T14:23:02.009013",
     "status": "completed"
    },
    "tags": []
   },
   "outputs": [],
   "source": [
    "# Encode the class labels for training, validation, and test sets\n",
    "y_train = label_encoder.transform(y_train)\n",
    "y_val = label_encoder.transform(y_val)\n",
    "y_test = label_encoder.transform(y_test)"
   ]
  },
  {
   "cell_type": "markdown",
   "id": "68a31c6d",
   "metadata": {
    "id": "7gVmDiaoGHLh",
    "papermill": {
     "duration": 0.012376,
     "end_time": "2024-04-16T14:23:02.073518",
     "exception": false,
     "start_time": "2024-04-16T14:23:02.061142",
     "status": "completed"
    },
    "tags": []
   },
   "source": [
    "Biến `num_classes` được gán số lượng các lớp duy nhất trong tập dữ liệu, điều này được xác định bằng độ dài của thuộc tính `classes_` của đối tượng `LabelEncoder`.\n",
    "\n",
    "Sau đó, hàm `to_categorical()` được sử dụng để chuyển đổi các nhãn lớp được mã hóa thành các mảng danh mục được mã hóa một-hot. Việc này là cần thiết cho các nhiệm vụ phân loại đa lớp, trong đó mỗi nhãn lớp được biểu diễn dưới dạng một vector nhị phân với một ở vị trí tương ứng với chỉ số lớp và các giá trị 0 ở nơi khác."
   ]
  },
  {
   "cell_type": "code",
   "execution_count": 14,
   "id": "d516a385",
   "metadata": {
    "id": "Pccke-XUjVeQ",
    "papermill": {
     "duration": 0.02,
     "end_time": "2024-04-16T14:23:02.105384",
     "exception": false,
     "start_time": "2024-04-16T14:23:02.085384",
     "status": "completed"
    },
    "tags": []
   },
   "outputs": [],
   "source": [
    "# Get the number of classes\n",
    "num_classes = len(label_encoder.classes_)\n",
    "\n",
    "# Convert encoded class labels to one-hot encoded categorical arrays\n",
    "y_train_categorical = to_categorical(y_train, num_classes=num_classes)\n",
    "y_val_categorical = to_categorical(y_val, num_classes=num_classes)\n",
    "y_test_categorical = to_categorical(y_test, num_classes=num_classes)"
   ]
  },
  {
   "cell_type": "markdown",
   "id": "18011892",
   "metadata": {
    "id": "nwv0iuDjGeHw",
    "papermill": {
     "duration": 0.013063,
     "end_time": "2024-04-16T14:23:02.131573",
     "exception": false,
     "start_time": "2024-04-16T14:23:02.118510",
     "status": "completed"
    },
    "tags": []
   },
   "source": [
    "### **Huấn luyện mô hình**\n",
    "Hàm `build_model` định nghĩa kiến trúc của mạng nơ-ron tích chập (CNN) cho việc nhận dạng biểu cảm khuôn mặt.\n",
    "\n",
    "- **1st Layer**: Lớp tích chập với 64 bộ lọc kích thước (5, 5), kích hoạt ReLU, và chuẩn hóa lô. Các lớp MaxPooling và Dropout được thêm vào để chính quy hóa.\n",
    "\n",
    "- **2nd Layer**: Lớp tích chập với 128 bộ lọc kích thước (3, 3), kích hoạt ReLU, và chuẩn hóa lô. Các lớp MaxPooling và Dropout được thêm vào để chính quy hóa.\n",
    "\n",
    "- **3rd Layer**: Lớp tích chập với 512 bộ lọc kích thước (3, 3), kích hoạt ReLU, và chuẩn hóa lô. Các lớp MaxPooling và Dropout được thêm vào để chính quy hóa.\n",
    "\n",
    "- **4th Layer**: Lớp tích chập với 512 bộ lọc kích thước (3, 3), kích hoạt ReLU, và chuẩn hóa lô. Các lớp MaxPooling và Dropout được thêm vào để chính quy hóa.\n",
    "\n",
    "- **Flatten Layer**: Làm phẳng đầu ra từ các lớp tích chập để đưa vào các lớp kết nối đầy đủ.\n",
    "\n",
    "- **Fully Connected Layer 1**: Lớp Dense với 256 đơn vị và kích hoạt ReLU, tiếp theo là chuẩn hóa lô và dropout để chính quy hóa.\n",
    "\n",
    "- **Fully Connected Layer 2**: Lớp Dense với 512 đơn vị và kích hoạt ReLU, tiếp theo là chuẩn hóa lô và dropout để chính quy hóa.\n",
    "\n",
    "- **Output Layer**: Lớp Dense với kích hoạt softmax cho phân loại đa lớp, với số đơn vị bằng số lớp trong tập dữ liệu.\n",
    "\n",
    "- **Compilation**: Mô hình được biên soạn với tối ưu hóa Adam, hàm mất mát cross-entropy phân loại danh mục và độ chính xác là độ đo."
   ]
  },
  {
   "cell_type": "code",
   "execution_count": 15,
   "id": "42fba5b5",
   "metadata": {
    "id": "ebDumsoOjZJC",
    "papermill": {
     "duration": 0.026528,
     "end_time": "2024-04-16T14:23:02.170664",
     "exception": false,
     "start_time": "2024-04-16T14:23:02.144136",
     "status": "completed"
    },
    "tags": []
   },
   "outputs": [],
   "source": [
    "# Building Model\n",
    "def build_model():\n",
    "    model = Sequential()\n",
    "    # 1st Layer\n",
    "    model.add(Conv2D(64, (5, 5), strides=(1, 1), padding='same', activation='relu', input_shape=(48, 48, 1)))\n",
    "    model.add(BatchNormalization())\n",
    "    model.add(MaxPooling2D(2, 2))\n",
    "    model.add(Dropout(0.3))\n",
    "\n",
    "    # 2nd Layer\n",
    "    model.add(Conv2D(128, (3, 3), strides=(1, 1), padding='same', activation='relu'))\n",
    "    model.add(BatchNormalization())\n",
    "    model.add(MaxPooling2D(2, 2))\n",
    "    model.add(Dropout(0.3))\n",
    "\n",
    "    # 3rd layer\n",
    "    model.add(Conv2D(512, (3, 3), strides=(1, 1), padding='same', activation='relu'))\n",
    "    model.add(BatchNormalization())\n",
    "    model.add(MaxPooling2D(2, 2))\n",
    "    model.add(Dropout(0.3))\n",
    "\n",
    "    # 4th layer\n",
    "    model.add(Conv2D(512, (3, 3), strides=(1, 1), padding='same', activation='relu'))\n",
    "    model.add(BatchNormalization())\n",
    "    model.add(MaxPooling2D(2, 2))\n",
    "    model.add(Dropout(0.3))\n",
    "\n",
    "    # Flatten Layer\n",
    "    model.add(Flatten())\n",
    "\n",
    "    # Fully connected layer 1\n",
    "    model.add(Dense(256, activation='relu'))\n",
    "    model.add(BatchNormalization())\n",
    "    model.add(Dropout(0.3))\n",
    "\n",
    "    # Fully connected layer 2\n",
    "    model.add(Dense(512, activation='relu'))\n",
    "    model.add(BatchNormalization())\n",
    "    model.add(Dropout(0.3))\n",
    "\n",
    "    # Output layer\n",
    "    model.add(Dense(num_classes, activation='softmax'))\n",
    "\n",
    "    # Compiling the model\n",
    "    model.compile(optimizer=Adam(learning_rate=0.001), loss='categorical_crossentropy', metrics=['accuracy'])\n",
    "\n",
    "    return model"
   ]
  },
  {
   "cell_type": "markdown",
   "id": "e5028121",
   "metadata": {
    "id": "I3CiJpP4GvHS",
    "papermill": {
     "duration": 0.011894,
     "end_time": "2024-04-16T14:23:02.194571",
     "exception": false,
     "start_time": "2024-04-16T14:23:02.182677",
     "status": "completed"
    },
    "tags": []
   },
   "source": [
    "Phương thức `summary()` được gọi trên mô hình đã xây dựng để hiển thị một tóm tắt về kiến ​​trúc của nó, bao gồm các lớp, hình dạng đầu ra và số lượng tham số có thể huấn luyện."
   ]
  },
  {
   "cell_type": "code",
   "execution_count": 16,
   "id": "8ef7f5fc",
   "metadata": {
    "id": "St5xjbyDjjGq",
    "outputId": "07d1de3b-433f-46d9-da1c-4059271ff085",
    "papermill": {
     "duration": 1.390941,
     "end_time": "2024-04-16T14:23:03.597755",
     "exception": false,
     "start_time": "2024-04-16T14:23:02.206814",
     "status": "completed"
    },
    "tags": []
   },
   "outputs": [
    {
     "name": "stderr",
     "output_type": "stream",
     "text": [
      "C:\\Users\\theng\\anaconda3\\Lib\\site-packages\\keras\\src\\layers\\convolutional\\base_conv.py:107: UserWarning: Do not pass an `input_shape`/`input_dim` argument to a layer. When using Sequential models, prefer using an `Input(shape)` object as the first layer in the model instead.\n",
      "  super().__init__(activity_regularizer=activity_regularizer, **kwargs)\n"
     ]
    },
    {
     "data": {
      "text/html": [
       "<pre style=\"white-space:pre;overflow-x:auto;line-height:normal;font-family:Menlo,'DejaVu Sans Mono',consolas,'Courier New',monospace\"><span style=\"font-weight: bold\">Model: \"sequential\"</span>\n",
       "</pre>\n"
      ],
      "text/plain": [
       "\u001b[1mModel: \"sequential\"\u001b[0m\n"
      ]
     },
     "metadata": {},
     "output_type": "display_data"
    },
    {
     "data": {
      "text/html": [
       "<pre style=\"white-space:pre;overflow-x:auto;line-height:normal;font-family:Menlo,'DejaVu Sans Mono',consolas,'Courier New',monospace\">┏━━━━━━━━━━━━━━━━━━━━━━━━━━━━━━━━━┳━━━━━━━━━━━━━━━━━━━━━━━━┳━━━━━━━━━━━━━━━┓\n",
       "┃<span style=\"font-weight: bold\"> Layer (type)                    </span>┃<span style=\"font-weight: bold\"> Output Shape           </span>┃<span style=\"font-weight: bold\">       Param # </span>┃\n",
       "┡━━━━━━━━━━━━━━━━━━━━━━━━━━━━━━━━━╇━━━━━━━━━━━━━━━━━━━━━━━━╇━━━━━━━━━━━━━━━┩\n",
       "│ conv2d (<span style=\"color: #0087ff; text-decoration-color: #0087ff\">Conv2D</span>)                 │ (<span style=\"color: #00d7ff; text-decoration-color: #00d7ff\">None</span>, <span style=\"color: #00af00; text-decoration-color: #00af00\">48</span>, <span style=\"color: #00af00; text-decoration-color: #00af00\">48</span>, <span style=\"color: #00af00; text-decoration-color: #00af00\">64</span>)     │         <span style=\"color: #00af00; text-decoration-color: #00af00\">1,664</span> │\n",
       "├─────────────────────────────────┼────────────────────────┼───────────────┤\n",
       "│ batch_normalization             │ (<span style=\"color: #00d7ff; text-decoration-color: #00d7ff\">None</span>, <span style=\"color: #00af00; text-decoration-color: #00af00\">48</span>, <span style=\"color: #00af00; text-decoration-color: #00af00\">48</span>, <span style=\"color: #00af00; text-decoration-color: #00af00\">64</span>)     │           <span style=\"color: #00af00; text-decoration-color: #00af00\">256</span> │\n",
       "│ (<span style=\"color: #0087ff; text-decoration-color: #0087ff\">BatchNormalization</span>)            │                        │               │\n",
       "├─────────────────────────────────┼────────────────────────┼───────────────┤\n",
       "│ max_pooling2d (<span style=\"color: #0087ff; text-decoration-color: #0087ff\">MaxPooling2D</span>)    │ (<span style=\"color: #00d7ff; text-decoration-color: #00d7ff\">None</span>, <span style=\"color: #00af00; text-decoration-color: #00af00\">24</span>, <span style=\"color: #00af00; text-decoration-color: #00af00\">24</span>, <span style=\"color: #00af00; text-decoration-color: #00af00\">64</span>)     │             <span style=\"color: #00af00; text-decoration-color: #00af00\">0</span> │\n",
       "├─────────────────────────────────┼────────────────────────┼───────────────┤\n",
       "│ dropout (<span style=\"color: #0087ff; text-decoration-color: #0087ff\">Dropout</span>)               │ (<span style=\"color: #00d7ff; text-decoration-color: #00d7ff\">None</span>, <span style=\"color: #00af00; text-decoration-color: #00af00\">24</span>, <span style=\"color: #00af00; text-decoration-color: #00af00\">24</span>, <span style=\"color: #00af00; text-decoration-color: #00af00\">64</span>)     │             <span style=\"color: #00af00; text-decoration-color: #00af00\">0</span> │\n",
       "├─────────────────────────────────┼────────────────────────┼───────────────┤\n",
       "│ conv2d_1 (<span style=\"color: #0087ff; text-decoration-color: #0087ff\">Conv2D</span>)               │ (<span style=\"color: #00d7ff; text-decoration-color: #00d7ff\">None</span>, <span style=\"color: #00af00; text-decoration-color: #00af00\">24</span>, <span style=\"color: #00af00; text-decoration-color: #00af00\">24</span>, <span style=\"color: #00af00; text-decoration-color: #00af00\">128</span>)    │        <span style=\"color: #00af00; text-decoration-color: #00af00\">73,856</span> │\n",
       "├─────────────────────────────────┼────────────────────────┼───────────────┤\n",
       "│ batch_normalization_1           │ (<span style=\"color: #00d7ff; text-decoration-color: #00d7ff\">None</span>, <span style=\"color: #00af00; text-decoration-color: #00af00\">24</span>, <span style=\"color: #00af00; text-decoration-color: #00af00\">24</span>, <span style=\"color: #00af00; text-decoration-color: #00af00\">128</span>)    │           <span style=\"color: #00af00; text-decoration-color: #00af00\">512</span> │\n",
       "│ (<span style=\"color: #0087ff; text-decoration-color: #0087ff\">BatchNormalization</span>)            │                        │               │\n",
       "├─────────────────────────────────┼────────────────────────┼───────────────┤\n",
       "│ max_pooling2d_1 (<span style=\"color: #0087ff; text-decoration-color: #0087ff\">MaxPooling2D</span>)  │ (<span style=\"color: #00d7ff; text-decoration-color: #00d7ff\">None</span>, <span style=\"color: #00af00; text-decoration-color: #00af00\">12</span>, <span style=\"color: #00af00; text-decoration-color: #00af00\">12</span>, <span style=\"color: #00af00; text-decoration-color: #00af00\">128</span>)    │             <span style=\"color: #00af00; text-decoration-color: #00af00\">0</span> │\n",
       "├─────────────────────────────────┼────────────────────────┼───────────────┤\n",
       "│ dropout_1 (<span style=\"color: #0087ff; text-decoration-color: #0087ff\">Dropout</span>)             │ (<span style=\"color: #00d7ff; text-decoration-color: #00d7ff\">None</span>, <span style=\"color: #00af00; text-decoration-color: #00af00\">12</span>, <span style=\"color: #00af00; text-decoration-color: #00af00\">12</span>, <span style=\"color: #00af00; text-decoration-color: #00af00\">128</span>)    │             <span style=\"color: #00af00; text-decoration-color: #00af00\">0</span> │\n",
       "├─────────────────────────────────┼────────────────────────┼───────────────┤\n",
       "│ conv2d_2 (<span style=\"color: #0087ff; text-decoration-color: #0087ff\">Conv2D</span>)               │ (<span style=\"color: #00d7ff; text-decoration-color: #00d7ff\">None</span>, <span style=\"color: #00af00; text-decoration-color: #00af00\">12</span>, <span style=\"color: #00af00; text-decoration-color: #00af00\">12</span>, <span style=\"color: #00af00; text-decoration-color: #00af00\">512</span>)    │       <span style=\"color: #00af00; text-decoration-color: #00af00\">590,336</span> │\n",
       "├─────────────────────────────────┼────────────────────────┼───────────────┤\n",
       "│ batch_normalization_2           │ (<span style=\"color: #00d7ff; text-decoration-color: #00d7ff\">None</span>, <span style=\"color: #00af00; text-decoration-color: #00af00\">12</span>, <span style=\"color: #00af00; text-decoration-color: #00af00\">12</span>, <span style=\"color: #00af00; text-decoration-color: #00af00\">512</span>)    │         <span style=\"color: #00af00; text-decoration-color: #00af00\">2,048</span> │\n",
       "│ (<span style=\"color: #0087ff; text-decoration-color: #0087ff\">BatchNormalization</span>)            │                        │               │\n",
       "├─────────────────────────────────┼────────────────────────┼───────────────┤\n",
       "│ max_pooling2d_2 (<span style=\"color: #0087ff; text-decoration-color: #0087ff\">MaxPooling2D</span>)  │ (<span style=\"color: #00d7ff; text-decoration-color: #00d7ff\">None</span>, <span style=\"color: #00af00; text-decoration-color: #00af00\">6</span>, <span style=\"color: #00af00; text-decoration-color: #00af00\">6</span>, <span style=\"color: #00af00; text-decoration-color: #00af00\">512</span>)      │             <span style=\"color: #00af00; text-decoration-color: #00af00\">0</span> │\n",
       "├─────────────────────────────────┼────────────────────────┼───────────────┤\n",
       "│ dropout_2 (<span style=\"color: #0087ff; text-decoration-color: #0087ff\">Dropout</span>)             │ (<span style=\"color: #00d7ff; text-decoration-color: #00d7ff\">None</span>, <span style=\"color: #00af00; text-decoration-color: #00af00\">6</span>, <span style=\"color: #00af00; text-decoration-color: #00af00\">6</span>, <span style=\"color: #00af00; text-decoration-color: #00af00\">512</span>)      │             <span style=\"color: #00af00; text-decoration-color: #00af00\">0</span> │\n",
       "├─────────────────────────────────┼────────────────────────┼───────────────┤\n",
       "│ conv2d_3 (<span style=\"color: #0087ff; text-decoration-color: #0087ff\">Conv2D</span>)               │ (<span style=\"color: #00d7ff; text-decoration-color: #00d7ff\">None</span>, <span style=\"color: #00af00; text-decoration-color: #00af00\">6</span>, <span style=\"color: #00af00; text-decoration-color: #00af00\">6</span>, <span style=\"color: #00af00; text-decoration-color: #00af00\">512</span>)      │     <span style=\"color: #00af00; text-decoration-color: #00af00\">2,359,808</span> │\n",
       "├─────────────────────────────────┼────────────────────────┼───────────────┤\n",
       "│ batch_normalization_3           │ (<span style=\"color: #00d7ff; text-decoration-color: #00d7ff\">None</span>, <span style=\"color: #00af00; text-decoration-color: #00af00\">6</span>, <span style=\"color: #00af00; text-decoration-color: #00af00\">6</span>, <span style=\"color: #00af00; text-decoration-color: #00af00\">512</span>)      │         <span style=\"color: #00af00; text-decoration-color: #00af00\">2,048</span> │\n",
       "│ (<span style=\"color: #0087ff; text-decoration-color: #0087ff\">BatchNormalization</span>)            │                        │               │\n",
       "├─────────────────────────────────┼────────────────────────┼───────────────┤\n",
       "│ max_pooling2d_3 (<span style=\"color: #0087ff; text-decoration-color: #0087ff\">MaxPooling2D</span>)  │ (<span style=\"color: #00d7ff; text-decoration-color: #00d7ff\">None</span>, <span style=\"color: #00af00; text-decoration-color: #00af00\">3</span>, <span style=\"color: #00af00; text-decoration-color: #00af00\">3</span>, <span style=\"color: #00af00; text-decoration-color: #00af00\">512</span>)      │             <span style=\"color: #00af00; text-decoration-color: #00af00\">0</span> │\n",
       "├─────────────────────────────────┼────────────────────────┼───────────────┤\n",
       "│ dropout_3 (<span style=\"color: #0087ff; text-decoration-color: #0087ff\">Dropout</span>)             │ (<span style=\"color: #00d7ff; text-decoration-color: #00d7ff\">None</span>, <span style=\"color: #00af00; text-decoration-color: #00af00\">3</span>, <span style=\"color: #00af00; text-decoration-color: #00af00\">3</span>, <span style=\"color: #00af00; text-decoration-color: #00af00\">512</span>)      │             <span style=\"color: #00af00; text-decoration-color: #00af00\">0</span> │\n",
       "├─────────────────────────────────┼────────────────────────┼───────────────┤\n",
       "│ flatten (<span style=\"color: #0087ff; text-decoration-color: #0087ff\">Flatten</span>)               │ (<span style=\"color: #00d7ff; text-decoration-color: #00d7ff\">None</span>, <span style=\"color: #00af00; text-decoration-color: #00af00\">4608</span>)           │             <span style=\"color: #00af00; text-decoration-color: #00af00\">0</span> │\n",
       "├─────────────────────────────────┼────────────────────────┼───────────────┤\n",
       "│ dense (<span style=\"color: #0087ff; text-decoration-color: #0087ff\">Dense</span>)                   │ (<span style=\"color: #00d7ff; text-decoration-color: #00d7ff\">None</span>, <span style=\"color: #00af00; text-decoration-color: #00af00\">256</span>)            │     <span style=\"color: #00af00; text-decoration-color: #00af00\">1,179,904</span> │\n",
       "├─────────────────────────────────┼────────────────────────┼───────────────┤\n",
       "│ batch_normalization_4           │ (<span style=\"color: #00d7ff; text-decoration-color: #00d7ff\">None</span>, <span style=\"color: #00af00; text-decoration-color: #00af00\">256</span>)            │         <span style=\"color: #00af00; text-decoration-color: #00af00\">1,024</span> │\n",
       "│ (<span style=\"color: #0087ff; text-decoration-color: #0087ff\">BatchNormalization</span>)            │                        │               │\n",
       "├─────────────────────────────────┼────────────────────────┼───────────────┤\n",
       "│ dropout_4 (<span style=\"color: #0087ff; text-decoration-color: #0087ff\">Dropout</span>)             │ (<span style=\"color: #00d7ff; text-decoration-color: #00d7ff\">None</span>, <span style=\"color: #00af00; text-decoration-color: #00af00\">256</span>)            │             <span style=\"color: #00af00; text-decoration-color: #00af00\">0</span> │\n",
       "├─────────────────────────────────┼────────────────────────┼───────────────┤\n",
       "│ dense_1 (<span style=\"color: #0087ff; text-decoration-color: #0087ff\">Dense</span>)                 │ (<span style=\"color: #00d7ff; text-decoration-color: #00d7ff\">None</span>, <span style=\"color: #00af00; text-decoration-color: #00af00\">512</span>)            │       <span style=\"color: #00af00; text-decoration-color: #00af00\">131,584</span> │\n",
       "├─────────────────────────────────┼────────────────────────┼───────────────┤\n",
       "│ batch_normalization_5           │ (<span style=\"color: #00d7ff; text-decoration-color: #00d7ff\">None</span>, <span style=\"color: #00af00; text-decoration-color: #00af00\">512</span>)            │         <span style=\"color: #00af00; text-decoration-color: #00af00\">2,048</span> │\n",
       "│ (<span style=\"color: #0087ff; text-decoration-color: #0087ff\">BatchNormalization</span>)            │                        │               │\n",
       "├─────────────────────────────────┼────────────────────────┼───────────────┤\n",
       "│ dropout_5 (<span style=\"color: #0087ff; text-decoration-color: #0087ff\">Dropout</span>)             │ (<span style=\"color: #00d7ff; text-decoration-color: #00d7ff\">None</span>, <span style=\"color: #00af00; text-decoration-color: #00af00\">512</span>)            │             <span style=\"color: #00af00; text-decoration-color: #00af00\">0</span> │\n",
       "├─────────────────────────────────┼────────────────────────┼───────────────┤\n",
       "│ dense_2 (<span style=\"color: #0087ff; text-decoration-color: #0087ff\">Dense</span>)                 │ (<span style=\"color: #00d7ff; text-decoration-color: #00d7ff\">None</span>, <span style=\"color: #00af00; text-decoration-color: #00af00\">7</span>)              │         <span style=\"color: #00af00; text-decoration-color: #00af00\">3,591</span> │\n",
       "└─────────────────────────────────┴────────────────────────┴───────────────┘\n",
       "</pre>\n"
      ],
      "text/plain": [
       "┏━━━━━━━━━━━━━━━━━━━━━━━━━━━━━━━━━┳━━━━━━━━━━━━━━━━━━━━━━━━┳━━━━━━━━━━━━━━━┓\n",
       "┃\u001b[1m \u001b[0m\u001b[1mLayer (type)                   \u001b[0m\u001b[1m \u001b[0m┃\u001b[1m \u001b[0m\u001b[1mOutput Shape          \u001b[0m\u001b[1m \u001b[0m┃\u001b[1m \u001b[0m\u001b[1m      Param #\u001b[0m\u001b[1m \u001b[0m┃\n",
       "┡━━━━━━━━━━━━━━━━━━━━━━━━━━━━━━━━━╇━━━━━━━━━━━━━━━━━━━━━━━━╇━━━━━━━━━━━━━━━┩\n",
       "│ conv2d (\u001b[38;5;33mConv2D\u001b[0m)                 │ (\u001b[38;5;45mNone\u001b[0m, \u001b[38;5;34m48\u001b[0m, \u001b[38;5;34m48\u001b[0m, \u001b[38;5;34m64\u001b[0m)     │         \u001b[38;5;34m1,664\u001b[0m │\n",
       "├─────────────────────────────────┼────────────────────────┼───────────────┤\n",
       "│ batch_normalization             │ (\u001b[38;5;45mNone\u001b[0m, \u001b[38;5;34m48\u001b[0m, \u001b[38;5;34m48\u001b[0m, \u001b[38;5;34m64\u001b[0m)     │           \u001b[38;5;34m256\u001b[0m │\n",
       "│ (\u001b[38;5;33mBatchNormalization\u001b[0m)            │                        │               │\n",
       "├─────────────────────────────────┼────────────────────────┼───────────────┤\n",
       "│ max_pooling2d (\u001b[38;5;33mMaxPooling2D\u001b[0m)    │ (\u001b[38;5;45mNone\u001b[0m, \u001b[38;5;34m24\u001b[0m, \u001b[38;5;34m24\u001b[0m, \u001b[38;5;34m64\u001b[0m)     │             \u001b[38;5;34m0\u001b[0m │\n",
       "├─────────────────────────────────┼────────────────────────┼───────────────┤\n",
       "│ dropout (\u001b[38;5;33mDropout\u001b[0m)               │ (\u001b[38;5;45mNone\u001b[0m, \u001b[38;5;34m24\u001b[0m, \u001b[38;5;34m24\u001b[0m, \u001b[38;5;34m64\u001b[0m)     │             \u001b[38;5;34m0\u001b[0m │\n",
       "├─────────────────────────────────┼────────────────────────┼───────────────┤\n",
       "│ conv2d_1 (\u001b[38;5;33mConv2D\u001b[0m)               │ (\u001b[38;5;45mNone\u001b[0m, \u001b[38;5;34m24\u001b[0m, \u001b[38;5;34m24\u001b[0m, \u001b[38;5;34m128\u001b[0m)    │        \u001b[38;5;34m73,856\u001b[0m │\n",
       "├─────────────────────────────────┼────────────────────────┼───────────────┤\n",
       "│ batch_normalization_1           │ (\u001b[38;5;45mNone\u001b[0m, \u001b[38;5;34m24\u001b[0m, \u001b[38;5;34m24\u001b[0m, \u001b[38;5;34m128\u001b[0m)    │           \u001b[38;5;34m512\u001b[0m │\n",
       "│ (\u001b[38;5;33mBatchNormalization\u001b[0m)            │                        │               │\n",
       "├─────────────────────────────────┼────────────────────────┼───────────────┤\n",
       "│ max_pooling2d_1 (\u001b[38;5;33mMaxPooling2D\u001b[0m)  │ (\u001b[38;5;45mNone\u001b[0m, \u001b[38;5;34m12\u001b[0m, \u001b[38;5;34m12\u001b[0m, \u001b[38;5;34m128\u001b[0m)    │             \u001b[38;5;34m0\u001b[0m │\n",
       "├─────────────────────────────────┼────────────────────────┼───────────────┤\n",
       "│ dropout_1 (\u001b[38;5;33mDropout\u001b[0m)             │ (\u001b[38;5;45mNone\u001b[0m, \u001b[38;5;34m12\u001b[0m, \u001b[38;5;34m12\u001b[0m, \u001b[38;5;34m128\u001b[0m)    │             \u001b[38;5;34m0\u001b[0m │\n",
       "├─────────────────────────────────┼────────────────────────┼───────────────┤\n",
       "│ conv2d_2 (\u001b[38;5;33mConv2D\u001b[0m)               │ (\u001b[38;5;45mNone\u001b[0m, \u001b[38;5;34m12\u001b[0m, \u001b[38;5;34m12\u001b[0m, \u001b[38;5;34m512\u001b[0m)    │       \u001b[38;5;34m590,336\u001b[0m │\n",
       "├─────────────────────────────────┼────────────────────────┼───────────────┤\n",
       "│ batch_normalization_2           │ (\u001b[38;5;45mNone\u001b[0m, \u001b[38;5;34m12\u001b[0m, \u001b[38;5;34m12\u001b[0m, \u001b[38;5;34m512\u001b[0m)    │         \u001b[38;5;34m2,048\u001b[0m │\n",
       "│ (\u001b[38;5;33mBatchNormalization\u001b[0m)            │                        │               │\n",
       "├─────────────────────────────────┼────────────────────────┼───────────────┤\n",
       "│ max_pooling2d_2 (\u001b[38;5;33mMaxPooling2D\u001b[0m)  │ (\u001b[38;5;45mNone\u001b[0m, \u001b[38;5;34m6\u001b[0m, \u001b[38;5;34m6\u001b[0m, \u001b[38;5;34m512\u001b[0m)      │             \u001b[38;5;34m0\u001b[0m │\n",
       "├─────────────────────────────────┼────────────────────────┼───────────────┤\n",
       "│ dropout_2 (\u001b[38;5;33mDropout\u001b[0m)             │ (\u001b[38;5;45mNone\u001b[0m, \u001b[38;5;34m6\u001b[0m, \u001b[38;5;34m6\u001b[0m, \u001b[38;5;34m512\u001b[0m)      │             \u001b[38;5;34m0\u001b[0m │\n",
       "├─────────────────────────────────┼────────────────────────┼───────────────┤\n",
       "│ conv2d_3 (\u001b[38;5;33mConv2D\u001b[0m)               │ (\u001b[38;5;45mNone\u001b[0m, \u001b[38;5;34m6\u001b[0m, \u001b[38;5;34m6\u001b[0m, \u001b[38;5;34m512\u001b[0m)      │     \u001b[38;5;34m2,359,808\u001b[0m │\n",
       "├─────────────────────────────────┼────────────────────────┼───────────────┤\n",
       "│ batch_normalization_3           │ (\u001b[38;5;45mNone\u001b[0m, \u001b[38;5;34m6\u001b[0m, \u001b[38;5;34m6\u001b[0m, \u001b[38;5;34m512\u001b[0m)      │         \u001b[38;5;34m2,048\u001b[0m │\n",
       "│ (\u001b[38;5;33mBatchNormalization\u001b[0m)            │                        │               │\n",
       "├─────────────────────────────────┼────────────────────────┼───────────────┤\n",
       "│ max_pooling2d_3 (\u001b[38;5;33mMaxPooling2D\u001b[0m)  │ (\u001b[38;5;45mNone\u001b[0m, \u001b[38;5;34m3\u001b[0m, \u001b[38;5;34m3\u001b[0m, \u001b[38;5;34m512\u001b[0m)      │             \u001b[38;5;34m0\u001b[0m │\n",
       "├─────────────────────────────────┼────────────────────────┼───────────────┤\n",
       "│ dropout_3 (\u001b[38;5;33mDropout\u001b[0m)             │ (\u001b[38;5;45mNone\u001b[0m, \u001b[38;5;34m3\u001b[0m, \u001b[38;5;34m3\u001b[0m, \u001b[38;5;34m512\u001b[0m)      │             \u001b[38;5;34m0\u001b[0m │\n",
       "├─────────────────────────────────┼────────────────────────┼───────────────┤\n",
       "│ flatten (\u001b[38;5;33mFlatten\u001b[0m)               │ (\u001b[38;5;45mNone\u001b[0m, \u001b[38;5;34m4608\u001b[0m)           │             \u001b[38;5;34m0\u001b[0m │\n",
       "├─────────────────────────────────┼────────────────────────┼───────────────┤\n",
       "│ dense (\u001b[38;5;33mDense\u001b[0m)                   │ (\u001b[38;5;45mNone\u001b[0m, \u001b[38;5;34m256\u001b[0m)            │     \u001b[38;5;34m1,179,904\u001b[0m │\n",
       "├─────────────────────────────────┼────────────────────────┼───────────────┤\n",
       "│ batch_normalization_4           │ (\u001b[38;5;45mNone\u001b[0m, \u001b[38;5;34m256\u001b[0m)            │         \u001b[38;5;34m1,024\u001b[0m │\n",
       "│ (\u001b[38;5;33mBatchNormalization\u001b[0m)            │                        │               │\n",
       "├─────────────────────────────────┼────────────────────────┼───────────────┤\n",
       "│ dropout_4 (\u001b[38;5;33mDropout\u001b[0m)             │ (\u001b[38;5;45mNone\u001b[0m, \u001b[38;5;34m256\u001b[0m)            │             \u001b[38;5;34m0\u001b[0m │\n",
       "├─────────────────────────────────┼────────────────────────┼───────────────┤\n",
       "│ dense_1 (\u001b[38;5;33mDense\u001b[0m)                 │ (\u001b[38;5;45mNone\u001b[0m, \u001b[38;5;34m512\u001b[0m)            │       \u001b[38;5;34m131,584\u001b[0m │\n",
       "├─────────────────────────────────┼────────────────────────┼───────────────┤\n",
       "│ batch_normalization_5           │ (\u001b[38;5;45mNone\u001b[0m, \u001b[38;5;34m512\u001b[0m)            │         \u001b[38;5;34m2,048\u001b[0m │\n",
       "│ (\u001b[38;5;33mBatchNormalization\u001b[0m)            │                        │               │\n",
       "├─────────────────────────────────┼────────────────────────┼───────────────┤\n",
       "│ dropout_5 (\u001b[38;5;33mDropout\u001b[0m)             │ (\u001b[38;5;45mNone\u001b[0m, \u001b[38;5;34m512\u001b[0m)            │             \u001b[38;5;34m0\u001b[0m │\n",
       "├─────────────────────────────────┼────────────────────────┼───────────────┤\n",
       "│ dense_2 (\u001b[38;5;33mDense\u001b[0m)                 │ (\u001b[38;5;45mNone\u001b[0m, \u001b[38;5;34m7\u001b[0m)              │         \u001b[38;5;34m3,591\u001b[0m │\n",
       "└─────────────────────────────────┴────────────────────────┴───────────────┘\n"
      ]
     },
     "metadata": {},
     "output_type": "display_data"
    },
    {
     "data": {
      "text/html": [
       "<pre style=\"white-space:pre;overflow-x:auto;line-height:normal;font-family:Menlo,'DejaVu Sans Mono',consolas,'Courier New',monospace\"><span style=\"font-weight: bold\"> Total params: </span><span style=\"color: #00af00; text-decoration-color: #00af00\">4,348,679</span> (16.59 MB)\n",
       "</pre>\n"
      ],
      "text/plain": [
       "\u001b[1m Total params: \u001b[0m\u001b[38;5;34m4,348,679\u001b[0m (16.59 MB)\n"
      ]
     },
     "metadata": {},
     "output_type": "display_data"
    },
    {
     "data": {
      "text/html": [
       "<pre style=\"white-space:pre;overflow-x:auto;line-height:normal;font-family:Menlo,'DejaVu Sans Mono',consolas,'Courier New',monospace\"><span style=\"font-weight: bold\"> Trainable params: </span><span style=\"color: #00af00; text-decoration-color: #00af00\">4,344,711</span> (16.57 MB)\n",
       "</pre>\n"
      ],
      "text/plain": [
       "\u001b[1m Trainable params: \u001b[0m\u001b[38;5;34m4,344,711\u001b[0m (16.57 MB)\n"
      ]
     },
     "metadata": {},
     "output_type": "display_data"
    },
    {
     "data": {
      "text/html": [
       "<pre style=\"white-space:pre;overflow-x:auto;line-height:normal;font-family:Menlo,'DejaVu Sans Mono',consolas,'Courier New',monospace\"><span style=\"font-weight: bold\"> Non-trainable params: </span><span style=\"color: #00af00; text-decoration-color: #00af00\">3,968</span> (15.50 KB)\n",
       "</pre>\n"
      ],
      "text/plain": [
       "\u001b[1m Non-trainable params: \u001b[0m\u001b[38;5;34m3,968\u001b[0m (15.50 KB)\n"
      ]
     },
     "metadata": {},
     "output_type": "display_data"
    },
    {
     "name": "stdout",
     "output_type": "stream",
     "text": [
      "None\n"
     ]
    }
   ],
   "source": [
    "# Build the model\n",
    "model = build_model()\n",
    "\n",
    "# Print model summary\n",
    "print(model.summary())"
   ]
  },
  {
   "cell_type": "markdown",
   "id": "7d7a2d33",
   "metadata": {
    "id": "wLTQrJYkG_Tg",
    "papermill": {
     "duration": 0.013004,
     "end_time": "2024-04-16T14:23:03.624464",
     "exception": false,
     "start_time": "2024-04-16T14:23:03.611460",
     "status": "completed"
    },
    "tags": []
   },
   "source": [
    "Đối tượng gọi lại `ModelCheckpoint` được khởi tạo để lưu trọng số của mô hình trong quá trình huấn luyện. Nó theo dõi độ chính xác của validation (`val_acc`) và chỉ lưu mô hình tốt nhất (được xác định bởi độ chính xác validation tối đa) vào tệp được chỉ định `\"model.h5\"`."
   ]
  },
  {
   "cell_type": "code",
   "execution_count": 17,
   "id": "e5983664",
   "metadata": {
    "id": "M-smbpQKkVV7",
    "papermill": {
     "duration": 0.020313,
     "end_time": "2024-04-16T14:23:03.657822",
     "exception": false,
     "start_time": "2024-04-16T14:23:03.637509",
     "status": "completed"
    },
    "tags": []
   },
   "outputs": [],
   "source": [
    "# Initialize ModelCheckpoint callback\n",
    "# checkpoint = ModelCheckpoint(\"model.h5\", monitor=\"val_acc\", verbose=1, save_best_only=True)\n",
    "# Initialize ModelCheckpoint callback\n",
    "checkpoint = ModelCheckpoint(\"model.keras\", monitor=\"val_acc\", verbose=1, save_best_only=True)"
   ]
  },
  {
   "cell_type": "markdown",
   "id": "4ea1cd27",
   "metadata": {
    "id": "oBiZw1EpHkFv",
    "papermill": {
     "duration": 0.012774,
     "end_time": "2024-04-16T14:23:03.683770",
     "exception": false,
     "start_time": "2024-04-16T14:23:03.670996",
     "status": "completed"
    },
    "tags": []
   },
   "source": [
    "Đối tượng gọi lại `EarlyStopping` được khởi tạo để theo dõi sự mất mát trên tập validation (`val_loss`). Nó dừng quá trình huấn luyện nếu sự mất mát trên tập validation không cải thiện trong một số epoch nhất định (`patience`), được chỉ định bởi người dùng. Quá trình huấn luyện sẽ được dừng sớm để ngăn chặn hiện tượng quá mức và các trọng số của mô hình hoạt động tốt nhất sẽ được khôi phục (`restore_best_weights=True`)."
   ]
  },
  {
   "cell_type": "code",
   "execution_count": 18,
   "id": "07970f7b",
   "metadata": {
    "id": "zuArFO2GkbKM",
    "papermill": {
     "duration": 0.019975,
     "end_time": "2024-04-16T14:23:03.716657",
     "exception": false,
     "start_time": "2024-04-16T14:23:03.696682",
     "status": "completed"
    },
    "tags": []
   },
   "outputs": [],
   "source": [
    "# Initialize EarlyStopping callback\n",
    "early_stopping = EarlyStopping(\n",
    "    monitor='val_loss',\n",
    "    min_delta=0,\n",
    "    patience=3,\n",
    "    verbose=1,\n",
    "    restore_best_weights=True\n",
    ")"
   ]
  },
  {
   "cell_type": "markdown",
   "id": "05bd7bc6",
   "metadata": {
    "id": "RTAehL6DHvym",
    "papermill": {
     "duration": 0.0129,
     "end_time": "2024-04-16T14:23:03.742757",
     "exception": false,
     "start_time": "2024-04-16T14:23:03.729857",
     "status": "completed"
    },
    "tags": []
   },
   "source": [
    "Đối tượng gọi lại `ReduceLROnPlateau` được khởi tạo để điều chỉnh động tốc độ học trong quá trình huấn luyện dựa trên sự mất mát trên tập validation (`val_loss`). Nếu sự mất mát trên tập validation không cải thiện trong một số epoch nhất định (`patience`), tốc độ học sẽ được giảm đi một hệ số được chỉ định bởi người dùng (`factor`). Điều này giúp cải thiện quá trình huấn luyện và ngăn mô hình bị kẹt trong các cực tiểu cục bộ."
   ]
  },
  {
   "cell_type": "code",
   "execution_count": 19,
   "id": "bc91bf46",
   "metadata": {
    "id": "FcWqpIDfkdkh",
    "papermill": {
     "duration": 0.01988,
     "end_time": "2024-04-16T14:23:03.775714",
     "exception": false,
     "start_time": "2024-04-16T14:23:03.755834",
     "status": "completed"
    },
    "tags": []
   },
   "outputs": [],
   "source": [
    "# Initialize ReduceLROnPlateau callback\n",
    "reduce_learningrate = ReduceLROnPlateau(\n",
    "    monitor='val_loss',\n",
    "    factor=0.2,\n",
    "    patience=3,\n",
    "    verbose=1,\n",
    "    min_delta=0.0001\n",
    ")"
   ]
  },
  {
   "cell_type": "markdown",
   "id": "d8569934",
   "metadata": {
    "id": "tJwx_MScH6Vh",
    "papermill": {
     "duration": 0.01316,
     "end_time": "2024-04-16T14:23:03.802206",
     "exception": false,
     "start_time": "2024-04-16T14:23:03.789046",
     "status": "completed"
    },
    "tags": []
   },
   "source": [
    "Danh sách `callbacks_list` là một danh sách chứa các gọi lại được sử dụng trong quá trình huấn luyện của mô hình. Nó bao gồm các gọi lại `EarlyStopping`, `ModelCheckpoint`, và `ReduceLROnPlateau`, được sử dụng để theo dõi sự mất mát trên tập validation, lưu mô hình tốt nhất, và điều chỉnh tốc độ học, tương ứng."
   ]
  },
  {
   "cell_type": "code",
   "execution_count": 20,
   "id": "f9cc1aa9",
   "metadata": {
    "id": "hkFIZipIkgA_",
    "papermill": {
     "duration": 0.020489,
     "end_time": "2024-04-16T14:23:03.835979",
     "exception": false,
     "start_time": "2024-04-16T14:23:03.815490",
     "status": "completed"
    },
    "tags": []
   },
   "outputs": [],
   "source": [
    "# List of callbacks\n",
    "callbacks_list = [early_stopping, checkpoint, reduce_learningrate]"
   ]
  },
  {
   "cell_type": "markdown",
   "id": "9a5d0d13",
   "metadata": {
    "id": "22-FfpcpIJX8",
    "papermill": {
     "duration": 0.013027,
     "end_time": "2024-04-16T14:23:03.862100",
     "exception": false,
     "start_time": "2024-04-16T14:23:03.849073",
     "status": "completed"
    },
    "tags": []
   },
   "source": [
    "Phương thức `compile()` được gọi trên mô hình để cấu hình quá trình huấn luyện. Nó xác định hàm mất mát, bộ tối ưu hóa và các đánh giá độc lập sẽ được sử dụng trong quá trình huấn luyện.\n",
    "\n",
    "- **Hàm Mất Mát**: Cross-entropy phân loại danh mục được sử dụng làm hàm mất mát cho các vấn đề phân loại đa lớp.\n",
    "- **Bộ Tối Ưu Hóa**: Bộ tối ưu hóa Adam được chọn với tốc độ học là 0.001.\n",
    "- **Đánh Giá**: Độ chính xác được sử dụng làm độc lập để theo dõi hiệu suất của mô hình trong quá trình huấn luyện."
   ]
  },
  {
   "cell_type": "code",
   "execution_count": 21,
   "id": "39319d4a",
   "metadata": {
    "id": "_DgH_tueki6T",
    "papermill": {
     "duration": 0.023398,
     "end_time": "2024-04-16T14:23:03.898806",
     "exception": false,
     "start_time": "2024-04-16T14:23:03.875408",
     "status": "completed"
    },
    "tags": []
   },
   "outputs": [],
   "source": [
    "# Compile the model\n",
    "model.compile(\n",
    "    loss='categorical_crossentropy',\n",
    "    optimizer=Adam(learning_rate=0.001),\n",
    "    metrics=['accuracy']\n",
    ")"
   ]
  },
  {
   "cell_type": "markdown",
   "id": "af7413da",
   "metadata": {
    "id": "WacGYPD5IlBk",
    "papermill": {
     "duration": 0.015655,
     "end_time": "2024-04-16T14:23:03.928966",
     "exception": false,
     "start_time": "2024-04-16T14:23:03.913311",
     "status": "completed"
    },
    "tags": []
   },
   "source": [
    "Phương thức `fit()` được gọi trên mô hình để huấn luyện nó trên dữ liệu huấn luyện. Nó nhận các tham số sau:\n",
    "\n",
    "- `data_gen.flow(X_train, y_train_categorical, batch_size=128)`: Một bộ sinh ra mẫu mà cung cấp các lô dữ liệu huấn luyện được tăng cường. Tăng cường dữ liệu được áp dụng ngay lập tức bằng cách sử dụng đối tượng `ImageDataGenerator` được xác định trước.\n",
    "- `validation_data=(X_val, y_val_categorical)`: Dữ liệu validation để đánh giá hiệu suất của mô hình sau mỗi epoch.\n",
    "- `epochs=30`: Số lượng epoch để huấn luyện mô hình.\n",
    "- `verbose=1`: Xác định chế độ verbose. Ở đây, nó in thanh tiến trình trong quá trình huấn luyện."
   ]
  },
  {
   "cell_type": "code",
   "execution_count": 22,
   "id": "c0169029",
   "metadata": {
    "id": "5kzrbdyx_UqG",
    "papermill": {
     "duration": 670.080244,
     "end_time": "2024-04-16T14:34:14.025165",
     "exception": false,
     "start_time": "2024-04-16T14:23:03.944921",
     "status": "completed"
    },
    "tags": []
   },
   "outputs": [
    {
     "name": "stdout",
     "output_type": "stream",
     "text": [
      "Epoch 1/30\n"
     ]
    },
    {
     "name": "stderr",
     "output_type": "stream",
     "text": [
      "C:\\Users\\theng\\anaconda3\\Lib\\site-packages\\keras\\src\\trainers\\data_adapters\\py_dataset_adapter.py:121: UserWarning: Your `PyDataset` class should call `super().__init__(**kwargs)` in its constructor. `**kwargs` can include `workers`, `use_multiprocessing`, `max_queue_size`. Do not pass these arguments to `fit()`, as they will be ignored.\n",
      "  self._warn_if_super_not_called()\n"
     ]
    },
    {
     "name": "stdout",
     "output_type": "stream",
     "text": [
      "\u001b[1m163/163\u001b[0m \u001b[32m━━━━━━━━━━━━━━━━━━━━\u001b[0m\u001b[37m\u001b[0m \u001b[1m146s\u001b[0m 871ms/step - accuracy: 0.1884 - loss: 2.3977 - val_accuracy: 0.2515 - val_loss: 2.4737\n",
      "Epoch 2/30\n",
      "\u001b[1m163/163\u001b[0m \u001b[32m━━━━━━━━━━━━━━━━━━━━\u001b[0m\u001b[37m\u001b[0m \u001b[1m138s\u001b[0m 844ms/step - accuracy: 0.2501 - loss: 1.9346 - val_accuracy: 0.2398 - val_loss: 2.1800\n",
      "Epoch 3/30\n",
      "\u001b[1m163/163\u001b[0m \u001b[32m━━━━━━━━━━━━━━━━━━━━\u001b[0m\u001b[37m\u001b[0m \u001b[1m139s\u001b[0m 850ms/step - accuracy: 0.3142 - loss: 1.7632 - val_accuracy: 0.3066 - val_loss: 2.0319\n",
      "Epoch 4/30\n",
      "\u001b[1m163/163\u001b[0m \u001b[32m━━━━━━━━━━━━━━━━━━━━\u001b[0m\u001b[37m\u001b[0m \u001b[1m137s\u001b[0m 842ms/step - accuracy: 0.3801 - loss: 1.6045 - val_accuracy: 0.3938 - val_loss: 1.5525\n",
      "Epoch 5/30\n",
      "\u001b[1m163/163\u001b[0m \u001b[32m━━━━━━━━━━━━━━━━━━━━\u001b[0m\u001b[37m\u001b[0m \u001b[1m146s\u001b[0m 897ms/step - accuracy: 0.3987 - loss: 1.5664 - val_accuracy: 0.3643 - val_loss: 1.6734\n",
      "Epoch 6/30\n",
      "\u001b[1m163/163\u001b[0m \u001b[32m━━━━━━━━━━━━━━━━━━━━\u001b[0m\u001b[37m\u001b[0m \u001b[1m137s\u001b[0m 842ms/step - accuracy: 0.4363 - loss: 1.4670 - val_accuracy: 0.4341 - val_loss: 1.4743\n",
      "Epoch 7/30\n",
      "\u001b[1m163/163\u001b[0m \u001b[32m━━━━━━━━━━━━━━━━━━━━\u001b[0m\u001b[37m\u001b[0m \u001b[1m139s\u001b[0m 852ms/step - accuracy: 0.4558 - loss: 1.4065 - val_accuracy: 0.4705 - val_loss: 1.3765\n",
      "Epoch 8/30\n",
      "\u001b[1m163/163\u001b[0m \u001b[32m━━━━━━━━━━━━━━━━━━━━\u001b[0m\u001b[37m\u001b[0m \u001b[1m145s\u001b[0m 891ms/step - accuracy: 0.4847 - loss: 1.3375 - val_accuracy: 0.5165 - val_loss: 1.3030\n",
      "Epoch 9/30\n",
      "\u001b[1m163/163\u001b[0m \u001b[32m━━━━━━━━━━━━━━━━━━━━\u001b[0m\u001b[37m\u001b[0m \u001b[1m148s\u001b[0m 907ms/step - accuracy: 0.4988 - loss: 1.2995 - val_accuracy: 0.5286 - val_loss: 1.2411\n",
      "Epoch 10/30\n",
      "\u001b[1m163/163\u001b[0m \u001b[32m━━━━━━━━━━━━━━━━━━━━\u001b[0m\u001b[37m\u001b[0m \u001b[1m150s\u001b[0m 920ms/step - accuracy: 0.5147 - loss: 1.2605 - val_accuracy: 0.5551 - val_loss: 1.1819\n",
      "Epoch 11/30\n",
      "\u001b[1m163/163\u001b[0m \u001b[32m━━━━━━━━━━━━━━━━━━━━\u001b[0m\u001b[37m\u001b[0m \u001b[1m149s\u001b[0m 912ms/step - accuracy: 0.5335 - loss: 1.2363 - val_accuracy: 0.5473 - val_loss: 1.1740\n",
      "Epoch 12/30\n",
      "\u001b[1m163/163\u001b[0m \u001b[32m━━━━━━━━━━━━━━━━━━━━\u001b[0m\u001b[37m\u001b[0m \u001b[1m146s\u001b[0m 891ms/step - accuracy: 0.5365 - loss: 1.2117 - val_accuracy: 0.5499 - val_loss: 1.1888\n",
      "Epoch 13/30\n",
      "\u001b[1m163/163\u001b[0m \u001b[32m━━━━━━━━━━━━━━━━━━━━\u001b[0m\u001b[37m\u001b[0m \u001b[1m139s\u001b[0m 850ms/step - accuracy: 0.5403 - loss: 1.2017 - val_accuracy: 0.5308 - val_loss: 1.2538\n",
      "Epoch 14/30\n",
      "\u001b[1m163/163\u001b[0m \u001b[32m━━━━━━━━━━━━━━━━━━━━\u001b[0m\u001b[37m\u001b[0m \u001b[1m141s\u001b[0m 864ms/step - accuracy: 0.5589 - loss: 1.1711 - val_accuracy: 0.5629 - val_loss: 1.1454\n",
      "Epoch 15/30\n",
      "\u001b[1m163/163\u001b[0m \u001b[32m━━━━━━━━━━━━━━━━━━━━\u001b[0m\u001b[37m\u001b[0m \u001b[1m139s\u001b[0m 851ms/step - accuracy: 0.5620 - loss: 1.1536 - val_accuracy: 0.5637 - val_loss: 1.1385\n",
      "Epoch 16/30\n",
      "\u001b[1m163/163\u001b[0m \u001b[32m━━━━━━━━━━━━━━━━━━━━\u001b[0m\u001b[37m\u001b[0m \u001b[1m143s\u001b[0m 874ms/step - accuracy: 0.5762 - loss: 1.1274 - val_accuracy: 0.5889 - val_loss: 1.0944\n",
      "Epoch 17/30\n",
      "\u001b[1m163/163\u001b[0m \u001b[32m━━━━━━━━━━━━━━━━━━━━\u001b[0m\u001b[37m\u001b[0m \u001b[1m139s\u001b[0m 853ms/step - accuracy: 0.5648 - loss: 1.1315 - val_accuracy: 0.5729 - val_loss: 1.1058\n",
      "Epoch 18/30\n",
      "\u001b[1m163/163\u001b[0m \u001b[32m━━━━━━━━━━━━━━━━━━━━\u001b[0m\u001b[37m\u001b[0m \u001b[1m139s\u001b[0m 852ms/step - accuracy: 0.5776 - loss: 1.1135 - val_accuracy: 0.5776 - val_loss: 1.1196\n",
      "Epoch 19/30\n",
      "\u001b[1m163/163\u001b[0m \u001b[32m━━━━━━━━━━━━━━━━━━━━\u001b[0m\u001b[37m\u001b[0m \u001b[1m141s\u001b[0m 863ms/step - accuracy: 0.5907 - loss: 1.0865 - val_accuracy: 0.5828 - val_loss: 1.0963\n",
      "Epoch 20/30\n",
      "\u001b[1m163/163\u001b[0m \u001b[32m━━━━━━━━━━━━━━━━━━━━\u001b[0m\u001b[37m\u001b[0m \u001b[1m140s\u001b[0m 855ms/step - accuracy: 0.5904 - loss: 1.0915 - val_accuracy: 0.5872 - val_loss: 1.0805\n",
      "Epoch 21/30\n",
      "\u001b[1m163/163\u001b[0m \u001b[32m━━━━━━━━━━━━━━━━━━━━\u001b[0m\u001b[37m\u001b[0m \u001b[1m139s\u001b[0m 849ms/step - accuracy: 0.5865 - loss: 1.0854 - val_accuracy: 0.5759 - val_loss: 1.1072\n",
      "Epoch 22/30\n",
      "\u001b[1m163/163\u001b[0m \u001b[32m━━━━━━━━━━━━━━━━━━━━\u001b[0m\u001b[37m\u001b[0m \u001b[1m140s\u001b[0m 860ms/step - accuracy: 0.6055 - loss: 1.0668 - val_accuracy: 0.5872 - val_loss: 1.0961\n",
      "Epoch 23/30\n",
      "\u001b[1m163/163\u001b[0m \u001b[32m━━━━━━━━━━━━━━━━━━━━\u001b[0m\u001b[37m\u001b[0m \u001b[1m139s\u001b[0m 852ms/step - accuracy: 0.6133 - loss: 1.0312 - val_accuracy: 0.5820 - val_loss: 1.0792\n",
      "Epoch 24/30\n",
      "\u001b[1m163/163\u001b[0m \u001b[32m━━━━━━━━━━━━━━━━━━━━\u001b[0m\u001b[37m\u001b[0m \u001b[1m139s\u001b[0m 848ms/step - accuracy: 0.6080 - loss: 1.0291 - val_accuracy: 0.6041 - val_loss: 1.0353\n",
      "Epoch 25/30\n",
      "\u001b[1m163/163\u001b[0m \u001b[32m━━━━━━━━━━━━━━━━━━━━\u001b[0m\u001b[37m\u001b[0m \u001b[1m168s\u001b[0m 1s/step - accuracy: 0.6102 - loss: 1.0240 - val_accuracy: 0.5924 - val_loss: 1.0641\n",
      "Epoch 26/30\n",
      "\u001b[1m163/163\u001b[0m \u001b[32m━━━━━━━━━━━━━━━━━━━━\u001b[0m\u001b[37m\u001b[0m \u001b[1m149s\u001b[0m 913ms/step - accuracy: 0.6157 - loss: 1.0081 - val_accuracy: 0.5711 - val_loss: 1.1262\n",
      "Epoch 27/30\n",
      "\u001b[1m163/163\u001b[0m \u001b[32m━━━━━━━━━━━━━━━━━━━━\u001b[0m\u001b[37m\u001b[0m \u001b[1m150s\u001b[0m 921ms/step - accuracy: 0.6243 - loss: 0.9906 - val_accuracy: 0.6071 - val_loss: 1.0409\n",
      "Epoch 28/30\n",
      "\u001b[1m163/163\u001b[0m \u001b[32m━━━━━━━━━━━━━━━━━━━━\u001b[0m\u001b[37m\u001b[0m \u001b[1m147s\u001b[0m 901ms/step - accuracy: 0.6193 - loss: 0.9990 - val_accuracy: 0.6002 - val_loss: 1.0559\n",
      "Epoch 29/30\n",
      "\u001b[1m163/163\u001b[0m \u001b[32m━━━━━━━━━━━━━━━━━━━━\u001b[0m\u001b[37m\u001b[0m \u001b[1m148s\u001b[0m 905ms/step - accuracy: 0.6345 - loss: 0.9684 - val_accuracy: 0.6136 - val_loss: 1.0206\n",
      "Epoch 30/30\n",
      "\u001b[1m163/163\u001b[0m \u001b[32m━━━━━━━━━━━━━━━━━━━━\u001b[0m\u001b[37m\u001b[0m \u001b[1m144s\u001b[0m 880ms/step - accuracy: 0.6379 - loss: 0.9521 - val_accuracy: 0.5876 - val_loss: 1.0641\n"
     ]
    }
   ],
   "source": [
    "# Training the model\n",
    "history = model.fit(\n",
    "    data_gen.flow(X_train, y_train_categorical, batch_size=128),\n",
    "    validation_data=(X_val, y_val_categorical),\n",
    "    epochs=30,\n",
    "    verbose=1\n",
    ")"
   ]
  },
  {
   "cell_type": "markdown",
   "id": "5c05d6f7",
   "metadata": {
    "id": "CUBFBK2qIxj4",
    "papermill": {
     "duration": 0.670947,
     "end_time": "2024-04-16T14:34:15.393214",
     "exception": false,
     "start_time": "2024-04-16T14:34:14.722267",
     "status": "completed"
    },
    "tags": []
   },
   "source": [
    "### **Lưu mô hình**\n",
    "\n",
    "Mô hình đã được huấn luyện được lưu vào một tệp có tên là `'modelv1.h5'` bằng cách sử dụng phương thức `save()`. Tệp này chứa kiến trúc của mô hình, trọng số, và cấu hình huấn luyện, cho phép bạn tải lại mô hình sau này để sử dụng cho việc dự đoán hoặc huấn luyện tiếp theo."
   ]
  },
  {
   "cell_type": "code",
   "execution_count": 23,
   "id": "975874ab",
   "metadata": {
    "id": "uF0F95fykoDV",
    "papermill": {
     "duration": 0.825703,
     "end_time": "2024-04-16T14:34:18.553342",
     "exception": false,
     "start_time": "2024-04-16T14:34:17.727639",
     "status": "completed"
    },
    "tags": []
   },
   "outputs": [
    {
     "name": "stderr",
     "output_type": "stream",
     "text": [
      "WARNING:absl:You are saving your model as an HDF5 file via `model.save()` or `keras.saving.save_model(model)`. This file format is considered legacy. We recommend using instead the native Keras format, e.g. `model.save('my_model.keras')` or `keras.saving.save_model(model, 'my_model.keras')`. \n"
     ]
    }
   ],
   "source": [
    "# Saving the model with .h5 extension\n",
    "model.save('modelv2.h5')"
   ]
  },
  {
   "cell_type": "markdown",
   "id": "b5a11c9a",
   "metadata": {
    "id": "Es_-GrjvJRKq",
    "papermill": {
     "duration": 0.682448,
     "end_time": "2024-04-16T14:34:19.899648",
     "exception": false,
     "start_time": "2024-04-16T14:34:19.217200",
     "status": "completed"
    },
    "tags": []
   },
   "source": [
    "### **Đánh giá mô hình**\n",
    "\n",
    "Đoạn mã vẽ biểu đồ độ chính xác của mô hình qua các epoch trong quá trình huấn luyện và validation. Nó minh họa cách hiệu suất của mô hình thay đổi theo thời gian và giúp nhận biết hiện tượng quá mức hoặc thiếu mức."
   ]
  },
  {
   "cell_type": "code",
   "execution_count": 24,
   "id": "9bbd7fea",
   "metadata": {
    "id": "SxmRSt_sxDve",
    "papermill": {
     "duration": 0.974436,
     "end_time": "2024-04-16T14:34:21.642823",
     "exception": false,
     "start_time": "2024-04-16T14:34:20.668387",
     "status": "completed"
    },
    "tags": []
   },
   "outputs": [
    {
     "data": {
      "image/png": "[encoded data removed]",
      "text/plain": [
       "<Figure size 640x480 with 1 Axes>"
      ]
     },
     "metadata": {},
     "output_type": "display_data"
    }
   ],
   "source": [
    "# Plotting model performance\n",
    "plt.plot(history.history['accuracy'], label='train_accuracy', marker='o')\n",
    "plt.plot(history.history['val_accuracy'], label='val_accuracy', marker='o')\n",
    "plt.title('Model Accuracy')\n",
    "plt.xlabel('Epochs')\n",
    "plt.ylabel('Accuracy')\n",
    "plt.legend()\n",
    "plt.show()"
   ]
  },
  {
   "cell_type": "markdown",
   "id": "a6773626-1e76-4770-b9a0-9ed0d762a9ff",
   "metadata": {},
   "source": [
    "Để đánh giá hiệu suất của một mô hình, đặc biệt là mô hình phân loại như mô hình sử dụng CNN để nhận diện cảm xúc trên khuôn mặt, có thể xem xét một số độ đo chính xác. Dưới đây là một số độ đo chính xác thường được sử dụng:\n",
    "\n",
    "### Accuracy:\n",
    "\n",
    "`Accuracy`= Number of Correct Predictions / Total Number of Prediction\n",
    "\n",
    "\n",
    "### Precision:\n",
    "\n",
    "`Precision`= True Positives / (True Positives + Fail Positives)\n",
    "\n",
    "### Recall (Sensitivity):\n",
    "\n",
    "`Recall`= True Positives / (False Negatives + True Positives)\n",
    "\n",
    "### F1 Score:\n",
    "\n",
    "`F1 Score`= 2 x ((Precision × Recall) / (Precision + Recall))\n",
    "\n",
    "### Confusion Matrix:\n",
    "Một bảng được sử dụng để mô tả hiệu suất của một mô hình phân loại, hiển thị số dương tính thật (True Positives), dương tính giả (False Positives), âm tính thật (True Negatives) và âm tính giả (False Negatives)."
   ]
  },
  {
   "cell_type": "code",
   "execution_count": 27,
   "id": "66dc5875",
   "metadata": {
    "papermill": {
     "duration": 0.779124,
     "end_time": "2024-04-16T14:34:23.084945",
     "exception": false,
     "start_time": "2024-04-16T14:34:22.305821",
     "status": "completed"
    },
    "tags": []
   },
   "outputs": [
    {
     "name": "stdout",
     "output_type": "stream",
     "text": [
      "\u001b[1m181/181\u001b[0m \u001b[32m━━━━━━━━━━━━━━━━━━━━\u001b[0m\u001b[37m\u001b[0m \u001b[1m9s\u001b[0m 48ms/step\n",
      "Báo cáo phân loại:\n",
      "              precision    recall  f1-score   support\n",
      "\n",
      "           0       0.56      0.43      0.49       769\n",
      "           1       0.62      0.39      0.48        93\n",
      "           2       0.39      0.43      0.41       823\n",
      "           3       0.79      0.83      0.81      1507\n",
      "           4       0.46      0.67      0.55       993\n",
      "           5       0.56      0.33      0.42       955\n",
      "           6       0.72      0.72      0.72       625\n",
      "\n",
      "    accuracy                           0.59      5765\n",
      "   macro avg       0.59      0.54      0.55      5765\n",
      "weighted avg       0.60      0.59      0.58      5765\n",
      "\n"
     ]
    },
    {
     "data": {
      "image/png": "[encoded data removed]",
      "text/plain": [
       "<Figure size 1000x800 with 2 Axes>"
      ]
     },
     "metadata": {},
     "output_type": "display_data"
    }
   ],
   "source": [
    "from sklearn.metrics import classification_report, confusion_matrix, roc_auc_score, roc_curve, log_loss, accuracy_score\n",
    "import seaborn as sns\n",
    "\n",
    "\n",
    "y_pred = model.predict(X_test)\n",
    "y_pred_classes = np.argmax(y_pred, axis=1)\n",
    "y_true = y_test  # Không cần dùng np.argmax vì y_test đã là nhãn số\n",
    "\n",
    "# Báo cáo phân loại\n",
    "print(\"Báo cáo phân loại:\")\n",
    "print(classification_report(y_true, y_pred_classes))\n",
    "\n",
    "# Ma trận nhầm lẫn\n",
    "conf_matrix = confusion_matrix(y_true, y_pred_classes)\n",
    "plt.figure(figsize=(10, 8))\n",
    "sns.heatmap(conf_matrix, annot=True, fmt='d', cmap='Blues')\n",
    "plt.title('Ma trận nhầm lẫn')\n",
    "plt.xlabel('Nhãn dự đoán')\n",
    "plt.ylabel('Nhãn thực tế')\n",
    "plt.show()"
   ]
  },
  {
   "cell_type": "code",
   "execution_count": null,
   "id": "d42a6386-4c0b-4a4b-8978-ce89400e049d",
   "metadata": {},
   "outputs": [],
   "source": []
  }
 ],
 "metadata": {
  "accelerator": "TPU",
  "colab": {
   "gpuType": "V28",
   "provenance": []
  },
  "kaggle": {
   "accelerator": "nvidiaTeslaT4",
   "dataSources": [
    {
     "datasetId": 99505,
     "sourceId": 234911,
     "sourceType": "datasetVersion"
    }
   ],
   "dockerImageVersionId": 30673,
   "isGpuEnabled": true,
   "isInternetEnabled": true,
   "language": "python",
   "sourceType": "notebook"
  },
  "kernelspec": {
   "display_name": "Python 3 (ipykernel)",
   "language": "python",
   "name": "python3"
  },
  "language_info": {
   "codemirror_mode": {
    "name": "ipython",
    "version": 3
   },
   "file_extension": ".py",
   "mimetype": "text/x-python",
   "name": "python",
   "nbconvert_exporter": "python",
   "pygments_lexer": "ipython3",
   "version": "3.11.5"
  },
  "papermill": {
   "default_parameters": {},
   "duration": 881.013189,
   "end_time": "2024-04-16T14:34:26.658074",
   "environment_variables": {},
   "exception": null,
   "input_path": "__notebook__.ipynb",
   "output_path": "__notebook__.ipynb",
   "parameters": {},
   "start_time": "2024-04-16T14:19:45.644885",
   "version": "2.5.0"
  }
 },
 "nbformat": 4,
 "nbformat_minor": 5
}
