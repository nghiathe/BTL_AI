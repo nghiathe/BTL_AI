{
 "cells": [
  {
   "cell_type": "code",
   "execution_count": 18,
   "id": "09524568-ea3d-4164-933b-47e138a1637d",
   "metadata": {
    "tags": []
   },
   "outputs": [],
   "source": [
    "\n",
    "import matplotlib.pyplot as plt\n",
    "import numpy as np\n",
    "import pandas as pd\n",
    "import seaborn as sns\n",
    "import os\n",
    "import cv2\n",
    "from sklearn.model_selection import train_test_split\n",
    "\n",
    "\n",
    "# Importing Deep Learning Libraries\n",
    "\n",
    "from tensorflow.keras.preprocessing.image import load_img, img_to_array\n",
    "from tensorflow.keras.preprocessing.image import ImageDataGenerator\n",
    "from tensorflow.keras.layers import Dense,Input,Dropout,GlobalAveragePooling2D,Flatten,Conv2D,BatchNormalization,Activation,MaxPooling2D\n",
    "from tensorflow.keras.models import Model,Sequential\n",
    "from tensorflow.keras.optimizers import Adam,SGD,RMSprop"
   ]
  },
  {
   "cell_type": "code",
   "execution_count": 19,
   "id": "4a2b8872-d138-470c-a616-40b4e8f08495",
   "metadata": {
    "tags": []
   },
   "outputs": [],
   "source": [
    "picture_size = 48\n",
    "folder_path = \"images/train\"\n"
   ]
  },
  {
   "cell_type": "code",
   "execution_count": 20,
   "id": "37e30b3d-e34e-4780-8718-d0be04a2fa07",
   "metadata": {
    "tags": []
   },
   "outputs": [],
   "source": [
    "def load_and_preprocess_images(folder_path, picture_size):\n",
    "    images = []\n",
    "    labels = []\n",
    "    emotion_labels = sorted(os.listdir(folder_path))  # Lấy danh sách các thư mục (nhãn cảm xúc)\n",
    "\n",
    "    for label in emotion_labels:\n",
    "        label_path = os.path.join(folder_path, label)\n",
    "        for image_file in os.listdir(label_path):\n",
    "            image_path = os.path.join(label_path, image_file)\n",
    "            image = cv2.imread(image_path)\n",
    "            image = cv2.cvtColor(image, cv2.COLOR_BGR2GRAY)  # Chuyển đổi ảnh sang màu xám\n",
    "            image = cv2.resize(image, (picture_size, picture_size))  # Thay đổi kích thước ảnh\n",
    "            image = image.astype('float32') / 255.0  # Chuẩn hóa ảnh\n",
    "            images.append(image)\n",
    "            labels.append(emotion_labels.index(label))  # Gán nhãn cảm xúc\n",
    "\n",
    "    images = np.array(images)\n",
    "    labels = np.array(labels)\n",
    "\n",
    "    # Chuyển đổi hình ảnh thành định dạng phù hợp cho mô hình Keras\n",
    "    images = np.expand_dims(images, -1)\n",
    "    return images, labels\n",
    "\n",
    "images, labels = load_and_preprocess_images(folder_path, picture_size)\n"
   ]
  },
  {
   "cell_type": "code",
   "execution_count": 21,
   "id": "9ea3c979-db47-494d-9009-86ccc2cd2ab6",
   "metadata": {
    "tags": []
   },
   "outputs": [],
   "source": [
    "X_train, X_temp, y_train, y_temp = train_test_split(images, labels, test_size=0.2, random_state=42)\n",
    "X_dev, X_test, y_dev, y_test = train_test_split(X_temp, y_temp, test_size=0.5, random_state=42)\n"
   ]
  },
  {
   "cell_type": "code",
   "execution_count": 22,
   "id": "0c6acb86-c71a-44d3-b558-7e00c83cb2b0",
   "metadata": {
    "tags": []
   },
   "outputs": [],
   "source": [
    "datagen = ImageDataGenerator(\n",
    "    rotation_range=20,\n",
    "    width_shift_range=0.2,\n",
    "    height_shift_range=0.2,\n",
    "    zoom_range=0.2,\n",
    "    horizontal_flip=True,\n",
    "    shear_range=0.2,\n",
    "    fill_mode='nearest'\n",
    ")\n",
    "\n",
    "datagen.fit(X_train)\n",
    "\n"
   ]
  },
  {
   "cell_type": "code",
   "execution_count": 23,
   "id": "4cc38444-7044-465e-87b6-a22226bf9bed",
   "metadata": {
    "tags": []
   },
   "outputs": [],
   "source": [
    "def apply_gaussian_blur(images):\n",
    "    blurred_images = []\n",
    "    for image in images:\n",
    "        blurred_image = cv2.GaussianBlur(image, (5, 5), 0)\n",
    "        blurred_images.append(blurred_image)\n",
    "    return np.array(blurred_images)\n",
    "\n",
    "X_train_blurred = apply_gaussian_blur(X_train)\n"
   ]
  },
  {
   "cell_type": "code",
   "execution_count": 24,
   "id": "4d843051-8aef-4c96-8aea-c46929021410",
   "metadata": {
    "tags": []
   },
   "outputs": [
    {
     "name": "stderr",
     "output_type": "stream",
     "text": [
      "C:\\Users\\theng\\anaconda3\\Lib\\site-packages\\keras\\src\\layers\\convolutional\\base_conv.py:107: UserWarning: Do not pass an `input_shape`/`input_dim` argument to a layer. When using Sequential models, prefer using an `Input(shape)` object as the first layer in the model instead.\n",
      "  super().__init__(activity_regularizer=activity_regularizer, **kwargs)\n"
     ]
    },
    {
     "name": "stdout",
     "output_type": "stream",
     "text": [
      "Epoch 1/30\n"
     ]
    },
    {
     "name": "stderr",
     "output_type": "stream",
     "text": [
      "C:\\Users\\theng\\anaconda3\\Lib\\site-packages\\keras\\src\\trainers\\data_adapters\\py_dataset_adapter.py:121: UserWarning: Your `PyDataset` class should call `super().__init__(**kwargs)` in its constructor. `**kwargs` can include `workers`, `use_multiprocessing`, `max_queue_size`. Do not pass these arguments to `fit()`, as they will be ignored.\n",
      "  self._warn_if_super_not_called()\n"
     ]
    },
    {
     "name": "stdout",
     "output_type": "stream",
     "text": [
      "\u001b[1m721/721\u001b[0m \u001b[32m━━━━━━━━━━━━━━━━━━━━\u001b[0m\u001b[37m\u001b[0m \u001b[1m41s\u001b[0m 52ms/step - accuracy: 0.2424 - loss: 1.8218 - val_accuracy: 0.3588 - val_loss: 1.6555\n",
      "Epoch 2/30\n",
      "\u001b[1m721/721\u001b[0m \u001b[32m━━━━━━━━━━━━━━━━━━━━\u001b[0m\u001b[37m\u001b[0m \u001b[1m35s\u001b[0m 48ms/step - accuracy: 0.3101 - loss: 1.7117 - val_accuracy: 0.3789 - val_loss: 1.6149\n",
      "Epoch 3/30\n",
      "\u001b[1m721/721\u001b[0m \u001b[32m━━━━━━━━━━━━━━━━━━━━\u001b[0m\u001b[37m\u001b[0m \u001b[1m35s\u001b[0m 48ms/step - accuracy: 0.3523 - loss: 1.6352 - val_accuracy: 0.4261 - val_loss: 1.5003\n",
      "Epoch 4/30\n",
      "\u001b[1m721/721\u001b[0m \u001b[32m━━━━━━━━━━━━━━━━━━━━\u001b[0m\u001b[37m\u001b[0m \u001b[1m35s\u001b[0m 48ms/step - accuracy: 0.3702 - loss: 1.6031 - val_accuracy: 0.4417 - val_loss: 1.4603\n",
      "Epoch 5/30\n",
      "\u001b[1m721/721\u001b[0m \u001b[32m━━━━━━━━━━━━━━━━━━━━\u001b[0m\u001b[37m\u001b[0m \u001b[1m36s\u001b[0m 49ms/step - accuracy: 0.3914 - loss: 1.5591 - val_accuracy: 0.4504 - val_loss: 1.4430\n",
      "Epoch 6/30\n",
      "\u001b[1m721/721\u001b[0m \u001b[32m━━━━━━━━━━━━━━━━━━━━\u001b[0m\u001b[37m\u001b[0m \u001b[1m35s\u001b[0m 49ms/step - accuracy: 0.4076 - loss: 1.5355 - val_accuracy: 0.4591 - val_loss: 1.4134\n",
      "Epoch 7/30\n",
      "\u001b[1m721/721\u001b[0m \u001b[32m━━━━━━━━━━━━━━━━━━━━\u001b[0m\u001b[37m\u001b[0m \u001b[1m35s\u001b[0m 49ms/step - accuracy: 0.4061 - loss: 1.5258 - val_accuracy: 0.4511 - val_loss: 1.4074\n",
      "Epoch 8/30\n",
      "\u001b[1m721/721\u001b[0m \u001b[32m━━━━━━━━━━━━━━━━━━━━\u001b[0m\u001b[37m\u001b[0m \u001b[1m35s\u001b[0m 48ms/step - accuracy: 0.4268 - loss: 1.4829 - val_accuracy: 0.4802 - val_loss: 1.3625\n",
      "Epoch 9/30\n",
      "\u001b[1m721/721\u001b[0m \u001b[32m━━━━━━━━━━━━━━━━━━━━\u001b[0m\u001b[37m\u001b[0m \u001b[1m36s\u001b[0m 49ms/step - accuracy: 0.4356 - loss: 1.4661 - val_accuracy: 0.4840 - val_loss: 1.3552\n",
      "Epoch 10/30\n",
      "\u001b[1m721/721\u001b[0m \u001b[32m━━━━━━━━━━━━━━━━━━━━\u001b[0m\u001b[37m\u001b[0m \u001b[1m36s\u001b[0m 50ms/step - accuracy: 0.4328 - loss: 1.4707 - val_accuracy: 0.4844 - val_loss: 1.3308\n",
      "Epoch 11/30\n",
      "\u001b[1m721/721\u001b[0m \u001b[32m━━━━━━━━━━━━━━━━━━━━\u001b[0m\u001b[37m\u001b[0m \u001b[1m36s\u001b[0m 49ms/step - accuracy: 0.4428 - loss: 1.4452 - val_accuracy: 0.4806 - val_loss: 1.3483\n",
      "Epoch 12/30\n",
      "\u001b[1m721/721\u001b[0m \u001b[32m━━━━━━━━━━━━━━━━━━━━\u001b[0m\u001b[37m\u001b[0m \u001b[1m36s\u001b[0m 49ms/step - accuracy: 0.4474 - loss: 1.4307 - val_accuracy: 0.4833 - val_loss: 1.3156\n",
      "Epoch 13/30\n",
      "\u001b[1m721/721\u001b[0m \u001b[32m━━━━━━━━━━━━━━━━━━━━\u001b[0m\u001b[37m\u001b[0m \u001b[1m37s\u001b[0m 51ms/step - accuracy: 0.4584 - loss: 1.4200 - val_accuracy: 0.4948 - val_loss: 1.2847\n",
      "Epoch 14/30\n",
      "\u001b[1m721/721\u001b[0m \u001b[32m━━━━━━━━━━━━━━━━━━━━\u001b[0m\u001b[37m\u001b[0m \u001b[1m36s\u001b[0m 50ms/step - accuracy: 0.4529 - loss: 1.4215 - val_accuracy: 0.4983 - val_loss: 1.3135\n",
      "Epoch 15/30\n",
      "\u001b[1m721/721\u001b[0m \u001b[32m━━━━━━━━━━━━━━━━━━━━\u001b[0m\u001b[37m\u001b[0m \u001b[1m36s\u001b[0m 49ms/step - accuracy: 0.4619 - loss: 1.4037 - val_accuracy: 0.5069 - val_loss: 1.2876\n",
      "Epoch 16/30\n",
      "\u001b[1m721/721\u001b[0m \u001b[32m━━━━━━━━━━━━━━━━━━━━\u001b[0m\u001b[37m\u001b[0m \u001b[1m35s\u001b[0m 49ms/step - accuracy: 0.4613 - loss: 1.4083 - val_accuracy: 0.5062 - val_loss: 1.2983\n",
      "Epoch 17/30\n",
      "\u001b[1m721/721\u001b[0m \u001b[32m━━━━━━━━━━━━━━━━━━━━\u001b[0m\u001b[37m\u001b[0m \u001b[1m36s\u001b[0m 50ms/step - accuracy: 0.4604 - loss: 1.4015 - val_accuracy: 0.5056 - val_loss: 1.2792\n",
      "Epoch 18/30\n",
      "\u001b[1m721/721\u001b[0m \u001b[32m━━━━━━━━━━━━━━━━━━━━\u001b[0m\u001b[37m\u001b[0m \u001b[1m36s\u001b[0m 49ms/step - accuracy: 0.4708 - loss: 1.3902 - val_accuracy: 0.5021 - val_loss: 1.2838\n",
      "Epoch 19/30\n",
      "\u001b[1m721/721\u001b[0m \u001b[32m━━━━━━━━━━━━━━━━━━━━\u001b[0m\u001b[37m\u001b[0m \u001b[1m36s\u001b[0m 49ms/step - accuracy: 0.4697 - loss: 1.3889 - val_accuracy: 0.5115 - val_loss: 1.2575\n",
      "Epoch 20/30\n",
      "\u001b[1m721/721\u001b[0m \u001b[32m━━━━━━━━━━━━━━━━━━━━\u001b[0m\u001b[37m\u001b[0m \u001b[1m36s\u001b[0m 49ms/step - accuracy: 0.4756 - loss: 1.3694 - val_accuracy: 0.5260 - val_loss: 1.2551\n",
      "Epoch 21/30\n",
      "\u001b[1m721/721\u001b[0m \u001b[32m━━━━━━━━━━━━━━━━━━━━\u001b[0m\u001b[37m\u001b[0m \u001b[1m36s\u001b[0m 50ms/step - accuracy: 0.4646 - loss: 1.3808 - val_accuracy: 0.5156 - val_loss: 1.2482\n",
      "Epoch 22/30\n",
      "\u001b[1m721/721\u001b[0m \u001b[32m━━━━━━━━━━━━━━━━━━━━\u001b[0m\u001b[37m\u001b[0m \u001b[1m36s\u001b[0m 50ms/step - accuracy: 0.4832 - loss: 1.3591 - val_accuracy: 0.5198 - val_loss: 1.2557\n",
      "Epoch 23/30\n",
      "\u001b[1m721/721\u001b[0m \u001b[32m━━━━━━━━━━━━━━━━━━━━\u001b[0m\u001b[37m\u001b[0m \u001b[1m36s\u001b[0m 50ms/step - accuracy: 0.4751 - loss: 1.3611 - val_accuracy: 0.5253 - val_loss: 1.2410\n",
      "Epoch 24/30\n",
      "\u001b[1m721/721\u001b[0m \u001b[32m━━━━━━━━━━━━━━━━━━━━\u001b[0m\u001b[37m\u001b[0m \u001b[1m36s\u001b[0m 49ms/step - accuracy: 0.4833 - loss: 1.3474 - val_accuracy: 0.5118 - val_loss: 1.2596\n",
      "Epoch 25/30\n",
      "\u001b[1m721/721\u001b[0m \u001b[32m━━━━━━━━━━━━━━━━━━━━\u001b[0m\u001b[37m\u001b[0m \u001b[1m36s\u001b[0m 50ms/step - accuracy: 0.4784 - loss: 1.3538 - val_accuracy: 0.5128 - val_loss: 1.2630\n",
      "Epoch 26/30\n",
      "\u001b[1m721/721\u001b[0m \u001b[32m━━━━━━━━━━━━━━━━━━━━\u001b[0m\u001b[37m\u001b[0m \u001b[1m36s\u001b[0m 50ms/step - accuracy: 0.4813 - loss: 1.3454 - val_accuracy: 0.5184 - val_loss: 1.2453\n",
      "Epoch 27/30\n",
      "\u001b[1m721/721\u001b[0m \u001b[32m━━━━━━━━━━━━━━━━━━━━\u001b[0m\u001b[37m\u001b[0m \u001b[1m36s\u001b[0m 50ms/step - accuracy: 0.4846 - loss: 1.3475 - val_accuracy: 0.5215 - val_loss: 1.2412\n",
      "Epoch 28/30\n",
      "\u001b[1m721/721\u001b[0m \u001b[32m━━━━━━━━━━━━━━━━━━━━\u001b[0m\u001b[37m\u001b[0m \u001b[1m36s\u001b[0m 49ms/step - accuracy: 0.4814 - loss: 1.3482 - val_accuracy: 0.5170 - val_loss: 1.2688\n",
      "Epoch 29/30\n",
      "\u001b[1m721/721\u001b[0m \u001b[32m━━━━━━━━━━━━━━━━━━━━\u001b[0m\u001b[37m\u001b[0m \u001b[1m36s\u001b[0m 50ms/step - accuracy: 0.4848 - loss: 1.3503 - val_accuracy: 0.5371 - val_loss: 1.2109\n",
      "Epoch 30/30\n",
      "\u001b[1m721/721\u001b[0m \u001b[32m━━━━━━━━━━━━━━━━━━━━\u001b[0m\u001b[37m\u001b[0m \u001b[1m36s\u001b[0m 50ms/step - accuracy: 0.4916 - loss: 1.3352 - val_accuracy: 0.5239 - val_loss: 1.2395\n"
     ]
    }
   ],
   "source": [
    "from tensorflow.keras.models import Sequential\n",
    "from tensorflow.keras.layers import Conv2D, MaxPooling2D, Flatten, Dense, Dropout\n",
    "\n",
    "model = Sequential([\n",
    "    Conv2D(32, (3, 3), activation='relu', input_shape=(picture_size, picture_size, 1)),\n",
    "    MaxPooling2D((2, 2)),\n",
    "    Conv2D(64, (3, 3), activation='relu'),\n",
    "    MaxPooling2D((2, 2)),\n",
    "    Flatten(),\n",
    "    Dense(128, activation='relu'),\n",
    "    Dropout(0.5),\n",
    "    Dense(len(os.listdir(folder_path)), activation='softmax')  # Số lượng lớp đầu ra bằng số lượng nhãn cảm xúc\n",
    "])\n",
    "\n",
    "model.compile(optimizer='adam', loss='sparse_categorical_crossentropy', metrics=['accuracy'])\n",
    "\n",
    "# Huấn luyện mô hình\n",
    "history = model.fit(datagen.flow(X_train, y_train, batch_size=32),\n",
    "                    validation_data=(X_dev, y_dev),\n",
    "                    epochs=30)\n"
   ]
  },
  {
   "cell_type": "code",
   "execution_count": 25,
   "id": "9fac3830-3abc-4d88-8282-80f86226fc08",
   "metadata": {
    "tags": []
   },
   "outputs": [
    {
     "name": "stdout",
     "output_type": "stream",
     "text": [
      "\u001b[1m91/91\u001b[0m \u001b[32m━━━━━━━━━━━━━━━━━━━━\u001b[0m\u001b[37m\u001b[0m \u001b[1m1s\u001b[0m 14ms/step - accuracy: 0.5467 - loss: 1.1964\n",
      "Test accuracy: 0.539715588092804\n"
     ]
    }
   ],
   "source": [
    "loss, accuracy = model.evaluate(X_test, y_test)\n",
    "print(f'Test accuracy: {accuracy}')\n"
   ]
  },
  {
   "cell_type": "code",
   "execution_count": 26,
   "id": "619932ea-534c-4266-9b52-06889e324cb8",
   "metadata": {
    "tags": []
   },
   "outputs": [
    {
     "name": "stderr",
     "output_type": "stream",
     "text": [
      "WARNING:absl:You are saving your model as an HDF5 file via `model.save()` or `keras.saving.save_model(model)`. This file format is considered legacy. We recommend using instead the native Keras format, e.g. `model.save('my_model.keras')` or `keras.saving.save_model(model, 'my_model.keras')`. \n"
     ]
    }
   ],
   "source": [
    "# Lưu mô hình vào file .h5\n",
    "model.save('emotion_model.h5')\n"
   ]
  },
  {
   "cell_type": "code",
   "execution_count": null,
   "id": "4a7a3a83-84cb-4dc8-9ef2-71f632b1e15f",
   "metadata": {},
   "outputs": [],
   "source": []
  }
 ],
 "metadata": {
  "kernelspec": {
   "display_name": "Python 3 (ipykernel)",
   "language": "python",
   "name": "python3"
  },
  "language_info": {
   "codemirror_mode": {
    "name": "ipython",
    "version": 3
   },
   "file_extension": ".py",
   "mimetype": "text/x-python",
   "name": "python",
   "nbconvert_exporter": "python",
   "pygments_lexer": "ipython3",
   "version": "3.11.5"
  }
 },
 "nbformat": 4,
 "nbformat_minor": 5
}
